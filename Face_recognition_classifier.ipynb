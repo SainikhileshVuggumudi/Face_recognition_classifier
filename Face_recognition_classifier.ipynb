{
 "cells": [
  {
   "cell_type": "markdown",
   "metadata": {
    "colab_type": "text",
    "id": "8ES_sRhCk8tN"
   },
   "source": [
    "# Face recognition classifier using CNN and TL(VGG16)"
   ]
  },
  {
   "cell_type": "markdown",
   "metadata": {
    "colab_type": "text",
    "id": "-TuASfJzkxy5"
   },
   "source": [
    "Face recognition is a multi class classification where we need to classify diff classes such as 'smille', 'theod', 'thgear', 'sjpalm', 'virvi', 'tjdyke', 'vanta', 'wjhugh', 'sjkill', 'theoc', 'sdwall', 'rjdunc', 'sirmcb', 'sjcutt', 'rhnorm', 'sgjday', 'sherbe', 'simm', 'sapere', 'riphil', 'pjrand', 'pcfry', 'pajaco', 'pears', 'papad', 'padnor', 'rhaitk', 'rafox', 'namart', 'ogefen', 'matth', 'ldgodd', 'llambr', 'mkosto', 'mrhami', 'mizli', 'kouri', 'lidov', 'labenm', 'mdchud', 'kmbald', 'ijfran', 'kbartl', 'isbald', 'hsgrim', 'howar', 'jross', 'jshea', 'jserai', 'jbierl', 'darda', 'dgemen', 'dakram', 'cywan', 'gsvird', 'gsmall', 'damvo', 'gstamo', 'hcarpe', 'dfhodd', 'ardper', 'cfloro', 'bschap', 'apdavi', 'boylee', 'cadugd', 'cdlarg', 'awjsud', 'apapou', 'cladam', 'adhast', 'ajbake'."
   ]
  },
  {
   "cell_type": "code",
   "execution_count": 1,
   "metadata": {
    "colab": {
     "base_uri": "https://localhost:8080/",
     "height": 125
    },
    "colab_type": "code",
    "id": "ces_YSokrX9U",
    "outputId": "a5621e26-79a3-4161-89b9-39b10fd77db9"
   },
   "outputs": [
    {
     "name": "stdout",
     "output_type": "stream",
     "text": [
      "Go to this URL in a browser: https://accounts.google.com/o/oauth2/auth?client_id=947318989803-6bn6qk8qdgf4n4g3pfee6491hc0brc4i.apps.googleusercontent.com&redirect_uri=urn%3aietf%3awg%3aoauth%3a2.0%3aoob&response_type=code&scope=email%20https%3a%2f%2fwww.googleapis.com%2fauth%2fdocs.test%20https%3a%2f%2fwww.googleapis.com%2fauth%2fdrive%20https%3a%2f%2fwww.googleapis.com%2fauth%2fdrive.photos.readonly%20https%3a%2f%2fwww.googleapis.com%2fauth%2fpeopleapi.readonly\n",
      "\n",
      "Enter your authorization code:\n",
      "··········\n",
      "Mounted at /content/drive/\n"
     ]
    }
   ],
   "source": [
    "from google.colab import drive\n",
    "drive.mount('/content/drive/')"
   ]
  },
  {
   "cell_type": "markdown",
   "metadata": {
    "colab_type": "text",
    "id": "QWCLPOWEk8ta"
   },
   "source": [
    "#### Define the data path"
   ]
  },
  {
   "cell_type": "code",
   "execution_count": 0,
   "metadata": {
    "colab": {},
    "colab_type": "code",
    "id": "STPklXL7k8ta"
   },
   "outputs": [],
   "source": [
    "import os\n",
    "PATH = os.getcwd()\n",
    "DATA_PATH = os.path.join(PATH, '/content/drive/My Drive/Data_InsofeNet/faces95')\n",
    "data_dir_list = os.listdir(DATA_PATH)"
   ]
  },
  {
   "cell_type": "code",
   "execution_count": 0,
   "metadata": {
    "colab": {},
    "colab_type": "code",
    "id": "NIDUVdmjk8tP"
   },
   "outputs": [],
   "source": [
    "# To avoid warnings from the tensorflow\n",
    "import warnings\n",
    "warnings.filterwarnings(\"ignore\")"
   ]
  },
  {
   "cell_type": "markdown",
   "metadata": {
    "colab_type": "text",
    "id": "O9ExHmA3k8td"
   },
   "source": [
    "#### Get the list of folders inside data path"
   ]
  },
  {
   "cell_type": "code",
   "execution_count": 4,
   "metadata": {
    "colab": {
     "base_uri": "https://localhost:8080/",
     "height": 54
    },
    "colab_type": "code",
    "id": "SNaUFgBzk8te",
    "outputId": "410a721b-9486-432a-f21b-4d60e2683f6c"
   },
   "outputs": [
    {
     "name": "stdout",
     "output_type": "stream",
     "text": [
      "['smille', 'theod', 'thgear', 'sjpalm', 'virvi', 'tjdyke', 'vanta', 'wjhugh', 'sjkill', 'theoc', 'sdwall', 'rjdunc', 'sirmcb', 'sjcutt', 'rhnorm', 'sgjday', 'sherbe', 'simm', 'sapere', 'riphil', 'pjrand', 'pcfry', 'pajaco', 'pears', 'papad', 'padnor', 'rhaitk', 'rafox', 'namart', 'ogefen', 'matth', 'ldgodd', 'llambr', 'mkosto', 'mrhami', 'mizli', 'kouri', 'lidov', 'labenm', 'mdchud', 'kmbald', 'ijfran', 'kbartl', 'isbald', 'hsgrim', 'howar', 'jross', 'jshea', 'jserai', 'jbierl', 'darda', 'dgemen', 'dakram', 'cywan', 'gsvird', 'gsmall', 'damvo', 'gstamo', 'hcarpe', 'dfhodd', 'ardper', 'cfloro', 'bschap', 'apdavi', 'boylee', 'cadugd', 'cdlarg', 'awjsud', 'apapou', 'cladam', 'adhast', 'ajbake']\n"
     ]
    }
   ],
   "source": [
    "#printing data dir list\n",
    "print(data_dir_list)"
   ]
  },
  {
   "cell_type": "markdown",
   "metadata": {
    "colab_type": "text",
    "id": "ONdepVhIk8tk"
   },
   "source": [
    "#### Declarations and initializations"
   ]
  },
  {
   "cell_type": "code",
   "execution_count": 0,
   "metadata": {
    "colab": {},
    "colab_type": "code",
    "id": "WBddfHwEk8tl"
   },
   "outputs": [],
   "source": [
    "img_rows=224\n",
    "img_cols=224\n",
    "num_channel=3\n",
    "\n",
    "num_epoch=8\n",
    "batch_size=32\n",
    "\n",
    "img_data_list=[]\n",
    "classes_names_list=[]"
   ]
  },
  {
   "cell_type": "markdown",
   "metadata": {
    "colab_type": "text",
    "id": "AjgBXhbtk8to"
   },
   "source": [
    "#### Read the images and store them in the list"
   ]
  },
  {
   "cell_type": "code",
   "execution_count": 6,
   "metadata": {
    "colab": {
     "base_uri": "https://localhost:8080/",
     "height": 1000
    },
    "colab_type": "code",
    "id": "s79MRrJ9k8tp",
    "outputId": "5e17950c-5ef4-45d9-f24a-3982d3b6e34b",
    "scrolled": true
   },
   "outputs": [
    {
     "name": "stdout",
     "output_type": "stream",
     "text": [
      "Loading images from smille folder\n",
      "\n",
      "Loading images from theod folder\n",
      "\n",
      "Loading images from thgear folder\n",
      "\n",
      "Loading images from sjpalm folder\n",
      "\n",
      "Loading images from virvi folder\n",
      "\n",
      "Loading images from tjdyke folder\n",
      "\n",
      "Loading images from vanta folder\n",
      "\n",
      "Loading images from wjhugh folder\n",
      "\n",
      "Loading images from sjkill folder\n",
      "\n",
      "Loading images from theoc folder\n",
      "\n",
      "Loading images from sdwall folder\n",
      "\n",
      "Loading images from rjdunc folder\n",
      "\n",
      "Loading images from sirmcb folder\n",
      "\n",
      "Loading images from sjcutt folder\n",
      "\n",
      "Loading images from rhnorm folder\n",
      "\n",
      "Loading images from sgjday folder\n",
      "\n",
      "Loading images from sherbe folder\n",
      "\n",
      "Loading images from simm folder\n",
      "\n",
      "Loading images from sapere folder\n",
      "\n",
      "Loading images from riphil folder\n",
      "\n",
      "Loading images from pjrand folder\n",
      "\n",
      "Loading images from pcfry folder\n",
      "\n",
      "Loading images from pajaco folder\n",
      "\n",
      "Loading images from pears folder\n",
      "\n",
      "Loading images from papad folder\n",
      "\n",
      "Loading images from padnor folder\n",
      "\n",
      "Loading images from rhaitk folder\n",
      "\n",
      "Loading images from rafox folder\n",
      "\n",
      "Loading images from namart folder\n",
      "\n",
      "Loading images from ogefen folder\n",
      "\n",
      "Loading images from matth folder\n",
      "\n",
      "Loading images from ldgodd folder\n",
      "\n",
      "Loading images from llambr folder\n",
      "\n",
      "Loading images from mkosto folder\n",
      "\n",
      "Loading images from mrhami folder\n",
      "\n",
      "Loading images from mizli folder\n",
      "\n",
      "Loading images from kouri folder\n",
      "\n",
      "Loading images from lidov folder\n",
      "\n",
      "Loading images from labenm folder\n",
      "\n",
      "Loading images from mdchud folder\n",
      "\n",
      "Loading images from kmbald folder\n",
      "\n",
      "Loading images from ijfran folder\n",
      "\n",
      "Loading images from kbartl folder\n",
      "\n",
      "Loading images from isbald folder\n",
      "\n",
      "Loading images from hsgrim folder\n",
      "\n",
      "Loading images from howar folder\n",
      "\n",
      "Loading images from jross folder\n",
      "\n",
      "Loading images from jshea folder\n",
      "\n",
      "Loading images from jserai folder\n",
      "\n",
      "Loading images from jbierl folder\n",
      "\n",
      "Loading images from darda folder\n",
      "\n",
      "Loading images from dgemen folder\n",
      "\n",
      "Loading images from dakram folder\n",
      "\n",
      "Loading images from cywan folder\n",
      "\n",
      "Loading images from gsvird folder\n",
      "\n",
      "Loading images from gsmall folder\n",
      "\n",
      "Loading images from damvo folder\n",
      "\n",
      "Loading images from gstamo folder\n",
      "\n",
      "Loading images from hcarpe folder\n",
      "\n",
      "Loading images from dfhodd folder\n",
      "\n",
      "Loading images from ardper folder\n",
      "\n",
      "Loading images from cfloro folder\n",
      "\n",
      "Loading images from bschap folder\n",
      "\n",
      "Loading images from apdavi folder\n",
      "\n",
      "Loading images from boylee folder\n",
      "\n",
      "Loading images from cadugd folder\n",
      "\n",
      "Loading images from cdlarg folder\n",
      "\n",
      "Loading images from awjsud folder\n",
      "\n",
      "Loading images from apapou folder\n",
      "\n",
      "Loading images from cladam folder\n",
      "\n",
      "Loading images from adhast folder\n",
      "\n",
      "Loading images from ajbake folder\n",
      "\n"
     ]
    }
   ],
   "source": [
    "import cv2\n",
    "\n",
    "for dataset in data_dir_list:\n",
    "    classes_names_list.append(dataset) \n",
    "    print ('Loading images from {} folder\\n'.format(dataset)) \n",
    "    img_list=os.listdir(DATA_PATH+'/'+ dataset)\n",
    "    for img in img_list:\n",
    "        input_img=cv2.imread(DATA_PATH + '/'+ dataset + '/'+ img )\n",
    "        input_img_resize=cv2.resize(input_img,(img_rows, img_cols))\n",
    "        img_data_list.append(input_img_resize)"
   ]
  },
  {
   "cell_type": "markdown",
   "metadata": {
    "colab_type": "text",
    "id": "ymvRrBiMk8tt"
   },
   "source": [
    "#### Get the number of classes"
   ]
  },
  {
   "cell_type": "code",
   "execution_count": 7,
   "metadata": {
    "colab": {
     "base_uri": "https://localhost:8080/",
     "height": 34
    },
    "colab_type": "code",
    "id": "3HJ_vSFrk8tu",
    "outputId": "51912f04-db52-4832-82df-cfc8d8e0e628"
   },
   "outputs": [
    {
     "name": "stdout",
     "output_type": "stream",
     "text": [
      "72\n"
     ]
    }
   ],
   "source": [
    "num_classes = len(classes_names_list)\n",
    "print(num_classes)"
   ]
  },
  {
   "cell_type": "markdown",
   "metadata": {
    "colab_type": "text",
    "id": "1XLLWYyLk8tx"
   },
   "source": [
    "####  Image preprocessiong"
   ]
  },
  {
   "cell_type": "code",
   "execution_count": 0,
   "metadata": {
    "colab": {},
    "colab_type": "code",
    "id": "KqR0pKZYk8ty"
   },
   "outputs": [],
   "source": [
    "import numpy as np\n",
    "\n",
    "img_data = np.array(img_data_list)\n",
    "img_data = img_data.astype('float32')\n",
    "img_data /= 255"
   ]
  },
  {
   "cell_type": "code",
   "execution_count": 9,
   "metadata": {
    "colab": {
     "base_uri": "https://localhost:8080/",
     "height": 34
    },
    "colab_type": "code",
    "id": "c9uEmOQXk8t2",
    "outputId": "1a4f66d6-7029-41be-8e5b-efff21e1c3cb"
   },
   "outputs": [
    {
     "name": "stdout",
     "output_type": "stream",
     "text": [
      "(1440, 224, 224, 3)\n"
     ]
    }
   ],
   "source": [
    "print (img_data.shape)"
   ]
  },
  {
   "cell_type": "code",
   "execution_count": 10,
   "metadata": {
    "colab": {
     "base_uri": "https://localhost:8080/",
     "height": 54
    },
    "colab_type": "code",
    "id": "kB7GnT8gk8t5",
    "outputId": "80b4478b-a04f-4cf3-9ea6-5671be058978"
   },
   "outputs": [
    {
     "name": "stdout",
     "output_type": "stream",
     "text": [
      "{0: 'smille', 1: 'theod', 2: 'thgear', 3: 'sjpalm', 4: 'virvi', 5: 'tjdyke', 6: 'vanta', 7: 'wjhugh', 8: 'sjkill', 9: 'theoc', 10: 'sdwall', 11: 'rjdunc', 12: 'sirmcb', 13: 'sjcutt', 14: 'rhnorm', 15: 'sgjday', 16: 'sherbe', 17: 'simm', 18: 'sapere', 19: 'riphil', 20: 'pjrand', 21: 'pcfry', 22: 'pajaco', 23: 'pears', 24: 'papad', 25: 'padnor', 26: 'rhaitk', 27: 'rafox', 28: 'namart', 29: 'ogefen', 30: 'matth', 31: 'ldgodd', 32: 'llambr', 33: 'mkosto', 34: 'mrhami', 35: 'mizli', 36: 'kouri', 37: 'lidov', 38: 'labenm', 39: 'mdchud', 40: 'kmbald', 41: 'ijfran', 42: 'kbartl', 43: 'isbald', 44: 'hsgrim', 45: 'howar', 46: 'jross', 47: 'jshea', 48: 'jserai', 49: 'jbierl', 50: 'darda', 51: 'dgemen', 52: 'dakram', 53: 'cywan', 54: 'gsvird', 55: 'gsmall', 56: 'damvo', 57: 'gstamo', 58: 'hcarpe', 59: 'dfhodd', 60: 'ardper', 61: 'cfloro', 62: 'bschap', 63: 'apdavi', 64: 'boylee', 65: 'cadugd', 66: 'cdlarg', 67: 'awjsud', 68: 'apapou', 69: 'cladam', 70: 'adhast', 71: 'ajbake'}\n"
     ]
    }
   ],
   "source": [
    "class_mapping = {}\n",
    "\n",
    "for index, directory in enumerate(os.listdir(\"/content/drive/My Drive/Data_InsofeNet/faces95\")):\n",
    "    class_mapping[index] = directory\n",
    "print(class_mapping)"
   ]
  },
  {
   "cell_type": "code",
   "execution_count": 11,
   "metadata": {
    "colab": {
     "base_uri": "https://localhost:8080/",
     "height": 34
    },
    "colab_type": "code",
    "id": "X_7ngno3k8t9",
    "outputId": "24a9a719-105f-4460-920a-1aabc5e7d602"
   },
   "outputs": [
    {
     "name": "stdout",
     "output_type": "stream",
     "text": [
      "(1440, 200, 180, 3) (1440,)\n"
     ]
    }
   ],
   "source": [
    "import matplotlib.pyplot as plt\n",
    "\n",
    "image_arrays = []\n",
    "image_labels = []\n",
    "\n",
    "root_image_directory = \"/content/drive/My Drive/Data_InsofeNet/faces95/\"\n",
    "\n",
    "for label, person in class_mapping.items():\n",
    "    for directory in os.listdir(root_image_directory):\n",
    "        if directory == person:\n",
    "            image_directory = root_image_directory + directory\n",
    "            break\n",
    " \n",
    "    for image in os.listdir(image_directory):\n",
    "        image = plt.imread(os.path.join(image_directory, image))\n",
    "        image_arrays.append(image)\n",
    "        image_labels.append(label)\n",
    "\n",
    "image_arrays = np.array(image_arrays)\n",
    "image_labels = np.array(image_labels)\n",
    "print(image_arrays.shape, image_labels.shape)\n"
   ]
  },
  {
   "cell_type": "code",
   "execution_count": 12,
   "metadata": {
    "colab": {
     "base_uri": "https://localhost:8080/",
     "height": 52
    },
    "colab_type": "code",
    "id": "OzH_gGO4k8uC",
    "outputId": "2aed3470-5705-4911-f8ba-82a497382610"
   },
   "outputs": [
    {
     "name": "stdout",
     "output_type": "stream",
     "text": [
      "1440\n",
      "(224, 224, 3)\n"
     ]
    }
   ],
   "source": [
    "num_of_samples = img_data.shape[0]\n",
    "input_shape = img_data[0].shape\n",
    "print(num_of_samples)\n",
    "print(input_shape)"
   ]
  },
  {
   "cell_type": "markdown",
   "metadata": {
    "colab_type": "text",
    "id": "uOF5P8p8k8uH"
   },
   "source": [
    "Convert class labels to numberic using one-hot encoding"
   ]
  },
  {
   "cell_type": "code",
   "execution_count": 13,
   "metadata": {
    "colab": {
     "base_uri": "https://localhost:8080/",
     "height": 34
    },
    "colab_type": "code",
    "id": "26S0u6elk8uI",
    "outputId": "e7fa8017-a7b9-43dc-ff08-f1c4785535a0"
   },
   "outputs": [
    {
     "name": "stderr",
     "output_type": "stream",
     "text": [
      "Using TensorFlow backend.\n"
     ]
    }
   ],
   "source": [
    "from keras.utils import to_categorical\n",
    "\n",
    "classes = to_categorical(image_labels, num_classes)"
   ]
  },
  {
   "cell_type": "code",
   "execution_count": 14,
   "metadata": {
    "colab": {
     "base_uri": "https://localhost:8080/",
     "height": 34
    },
    "colab_type": "code",
    "id": "FxsbbT92k8uO",
    "outputId": "84ba5610-dadb-45d2-f32b-b34a75c1fcfb"
   },
   "outputs": [
    {
     "name": "stdout",
     "output_type": "stream",
     "text": [
      "(1440, 72)\n"
     ]
    }
   ],
   "source": [
    "print(classes.shape)"
   ]
  },
  {
   "cell_type": "markdown",
   "metadata": {
    "colab_type": "text",
    "id": "Bp3kFxIQk8uT"
   },
   "source": [
    "#### Shuffle the dataset"
   ]
  },
  {
   "cell_type": "code",
   "execution_count": 0,
   "metadata": {
    "colab": {},
    "colab_type": "code",
    "id": "-whQKUdBk8uU"
   },
   "outputs": [],
   "source": [
    "from sklearn.utils import shuffle\n",
    "\n",
    "X, Y = shuffle(img_data, classes, random_state=864)"
   ]
  },
  {
   "cell_type": "code",
   "execution_count": 16,
   "metadata": {
    "colab": {
     "base_uri": "https://localhost:8080/",
     "height": 1000
    },
    "colab_type": "code",
    "id": "ZTkPxQZJk8uY",
    "outputId": "76e6556d-4285-424b-d619-8fc1ba81ff5f"
   },
   "outputs": [
    {
     "name": "stdout",
     "output_type": "stream",
     "text": [
      "[[[[0.05882353 0.12156863 0.23529412]\n",
      "   [0.05882353 0.12156863 0.23529412]\n",
      "   [0.05882353 0.12156863 0.23529412]\n",
      "   ...\n",
      "   [0.0627451  0.1254902  0.23921569]\n",
      "   [0.0627451  0.1254902  0.23921569]\n",
      "   [0.0627451  0.1254902  0.23921569]]\n",
      "\n",
      "  [[0.0627451  0.1254902  0.23921569]\n",
      "   [0.0627451  0.1254902  0.23921569]\n",
      "   [0.0627451  0.1254902  0.23921569]\n",
      "   ...\n",
      "   [0.06666667 0.12941177 0.24313726]\n",
      "   [0.06666667 0.12941177 0.24313726]\n",
      "   [0.06666667 0.12941177 0.24313726]]\n",
      "\n",
      "  [[0.0627451  0.1254902  0.23921569]\n",
      "   [0.0627451  0.1254902  0.23921569]\n",
      "   [0.0627451  0.1254902  0.23921569]\n",
      "   ...\n",
      "   [0.06666667 0.12941177 0.24313726]\n",
      "   [0.06666667 0.12941177 0.24313726]\n",
      "   [0.06666667 0.12941177 0.24313726]]\n",
      "\n",
      "  ...\n",
      "\n",
      "  [[0.05882353 0.04705882 0.12941177]\n",
      "   [0.05882353 0.04705882 0.12941177]\n",
      "   [0.05490196 0.04705882 0.1254902 ]\n",
      "   ...\n",
      "   [0.03137255 0.03529412 0.07450981]\n",
      "   [0.03137255 0.03529412 0.07450981]\n",
      "   [0.03137255 0.03529412 0.07450981]]\n",
      "\n",
      "  [[0.05490196 0.04705882 0.1254902 ]\n",
      "   [0.05490196 0.04705882 0.1254902 ]\n",
      "   [0.05098039 0.04313726 0.12156863]\n",
      "   ...\n",
      "   [0.03137255 0.03529412 0.07450981]\n",
      "   [0.03137255 0.03529412 0.07450981]\n",
      "   [0.03137255 0.03529412 0.07450981]]\n",
      "\n",
      "  [[0.05490196 0.04705882 0.1254902 ]\n",
      "   [0.05490196 0.04705882 0.1254902 ]\n",
      "   [0.05098039 0.04313726 0.12156863]\n",
      "   ...\n",
      "   [0.03137255 0.03529412 0.07450981]\n",
      "   [0.03137255 0.03529412 0.07450981]\n",
      "   [0.03137255 0.03529412 0.07450981]]]\n",
      "\n",
      "\n",
      " [[[0.07450981 0.16078432 0.3019608 ]\n",
      "   [0.07450981 0.16078432 0.3019608 ]\n",
      "   [0.07450981 0.16078432 0.3019608 ]\n",
      "   ...\n",
      "   [0.08235294 0.16078432 0.29803923]\n",
      "   [0.07843138 0.15686275 0.29411766]\n",
      "   [0.07450981 0.15294118 0.2901961 ]]\n",
      "\n",
      "  [[0.07450981 0.16078432 0.3019608 ]\n",
      "   [0.07450981 0.16078432 0.3019608 ]\n",
      "   [0.07450981 0.15686275 0.29803923]\n",
      "   ...\n",
      "   [0.07843138 0.16078432 0.29411766]\n",
      "   [0.07843138 0.15686275 0.29411766]\n",
      "   [0.07843138 0.15686275 0.29411766]]\n",
      "\n",
      "  [[0.07450981 0.16078432 0.29803923]\n",
      "   [0.07058824 0.15686275 0.29803923]\n",
      "   [0.07058824 0.15686275 0.29411766]\n",
      "   ...\n",
      "   [0.07843138 0.15686275 0.29411766]\n",
      "   [0.07843138 0.15686275 0.29411766]\n",
      "   [0.08235294 0.16078432 0.29803923]]\n",
      "\n",
      "  ...\n",
      "\n",
      "  [[0.01960784 0.02745098 0.02745098]\n",
      "   [0.01960784 0.02745098 0.02745098]\n",
      "   [0.01960784 0.02745098 0.02745098]\n",
      "   ...\n",
      "   [0.01176471 0.03137255 0.02745098]\n",
      "   [0.01176471 0.03137255 0.02745098]\n",
      "   [0.01176471 0.03137255 0.02745098]]\n",
      "\n",
      "  [[0.01960784 0.02745098 0.02745098]\n",
      "   [0.01960784 0.02745098 0.02745098]\n",
      "   [0.01960784 0.02745098 0.02745098]\n",
      "   ...\n",
      "   [0.01960784 0.02745098 0.02745098]\n",
      "   [0.01960784 0.02745098 0.02745098]\n",
      "   [0.01960784 0.02745098 0.02745098]]\n",
      "\n",
      "  [[0.01960784 0.02745098 0.02745098]\n",
      "   [0.01960784 0.02745098 0.02745098]\n",
      "   [0.01960784 0.02745098 0.02745098]\n",
      "   ...\n",
      "   [0.01960784 0.02745098 0.02745098]\n",
      "   [0.01960784 0.02745098 0.02745098]\n",
      "   [0.01960784 0.02745098 0.02745098]]]\n",
      "\n",
      "\n",
      " [[[0.05098039 0.11764706 0.21960784]\n",
      "   [0.05098039 0.11764706 0.21960784]\n",
      "   [0.05098039 0.11764706 0.21960784]\n",
      "   ...\n",
      "   [0.06666667 0.1254902  0.22745098]\n",
      "   [0.06666667 0.1254902  0.22745098]\n",
      "   [0.06666667 0.1254902  0.22745098]]\n",
      "\n",
      "  [[0.05490196 0.12156863 0.22352941]\n",
      "   [0.05490196 0.12156863 0.22352941]\n",
      "   [0.05490196 0.12156863 0.22352941]\n",
      "   ...\n",
      "   [0.06666667 0.1254902  0.22745098]\n",
      "   [0.06666667 0.1254902  0.22745098]\n",
      "   [0.06666667 0.1254902  0.22745098]]\n",
      "\n",
      "  [[0.05490196 0.12156863 0.22352941]\n",
      "   [0.05490196 0.12156863 0.22352941]\n",
      "   [0.05490196 0.12156863 0.22352941]\n",
      "   ...\n",
      "   [0.06666667 0.1254902  0.22745098]\n",
      "   [0.06666667 0.1254902  0.22745098]\n",
      "   [0.06666667 0.1254902  0.22745098]]\n",
      "\n",
      "  ...\n",
      "\n",
      "  [[0.04313726 0.07843138 0.12941177]\n",
      "   [0.04313726 0.07843138 0.12941177]\n",
      "   [0.04313726 0.07843138 0.12941177]\n",
      "   ...\n",
      "   [0.08235294 0.12941177 0.22352941]\n",
      "   [0.06666667 0.11372549 0.20784314]\n",
      "   [0.0627451  0.10980392 0.20392157]]\n",
      "\n",
      "  [[0.04313726 0.07843138 0.12941177]\n",
      "   [0.04313726 0.07843138 0.12941177]\n",
      "   [0.04313726 0.07843138 0.12941177]\n",
      "   ...\n",
      "   [0.14901961 0.19607843 0.2901961 ]\n",
      "   [0.10980392 0.15686275 0.2509804 ]\n",
      "   [0.08235294 0.12941177 0.22352941]]\n",
      "\n",
      "  [[0.04313726 0.07843138 0.12941177]\n",
      "   [0.04313726 0.07843138 0.12941177]\n",
      "   [0.04313726 0.07843138 0.12941177]\n",
      "   ...\n",
      "   [0.2784314  0.32156864 0.41568628]\n",
      "   [0.22352941 0.27058825 0.3647059 ]\n",
      "   [0.1882353  0.23529412 0.32941177]]]\n",
      "\n",
      "\n",
      " ...\n",
      "\n",
      "\n",
      " [[[0.10588235 0.21176471 0.40784314]\n",
      "   [0.10196079 0.20784314 0.40392157]\n",
      "   [0.09803922 0.20392157 0.4       ]\n",
      "   ...\n",
      "   [0.10196079 0.22745098 0.43529412]\n",
      "   [0.10196079 0.22745098 0.43529412]\n",
      "   [0.09803922 0.22352941 0.43137255]]\n",
      "\n",
      "  [[0.11372549 0.21960784 0.4117647 ]\n",
      "   [0.10980392 0.21568628 0.4117647 ]\n",
      "   [0.10588235 0.21176471 0.40784314]\n",
      "   ...\n",
      "   [0.09803922 0.22352941 0.43137255]\n",
      "   [0.09411765 0.21960784 0.42745098]\n",
      "   [0.09411765 0.21960784 0.42745098]]\n",
      "\n",
      "  [[0.11372549 0.21960784 0.41568628]\n",
      "   [0.10980392 0.21568628 0.4117647 ]\n",
      "   [0.10588235 0.21176471 0.40784314]\n",
      "   ...\n",
      "   [0.09411765 0.21960784 0.42745098]\n",
      "   [0.09019608 0.21568628 0.42352942]\n",
      "   [0.09019608 0.21568628 0.42352942]]\n",
      "\n",
      "  ...\n",
      "\n",
      "  [[0.05490196 0.0627451  0.0627451 ]\n",
      "   [0.05490196 0.0627451  0.0627451 ]\n",
      "   [0.05490196 0.0627451  0.0627451 ]\n",
      "   ...\n",
      "   [0.03529412 0.03529412 0.03529412]\n",
      "   [0.03529412 0.03529412 0.03529412]\n",
      "   [0.03529412 0.03529412 0.03529412]]\n",
      "\n",
      "  [[0.05490196 0.0627451  0.0627451 ]\n",
      "   [0.05490196 0.0627451  0.0627451 ]\n",
      "   [0.05490196 0.0627451  0.0627451 ]\n",
      "   ...\n",
      "   [0.03529412 0.03529412 0.03529412]\n",
      "   [0.03529412 0.03529412 0.03529412]\n",
      "   [0.03529412 0.03529412 0.03529412]]\n",
      "\n",
      "  [[0.05490196 0.0627451  0.0627451 ]\n",
      "   [0.05490196 0.0627451  0.0627451 ]\n",
      "   [0.05490196 0.0627451  0.0627451 ]\n",
      "   ...\n",
      "   [0.03529412 0.03529412 0.03529412]\n",
      "   [0.03529412 0.03529412 0.03529412]\n",
      "   [0.03529412 0.03529412 0.03529412]]]\n",
      "\n",
      "\n",
      " [[[0.07058824 0.1254902  0.21176471]\n",
      "   [0.07058824 0.1254902  0.21176471]\n",
      "   [0.07058824 0.1254902  0.21176471]\n",
      "   ...\n",
      "   [0.0627451  0.11764706 0.1882353 ]\n",
      "   [0.0627451  0.11764706 0.1882353 ]\n",
      "   [0.0627451  0.11764706 0.1882353 ]]\n",
      "\n",
      "  [[0.07058824 0.1254902  0.21176471]\n",
      "   [0.07058824 0.1254902  0.21176471]\n",
      "   [0.06666667 0.12156863 0.20784314]\n",
      "   ...\n",
      "   [0.05882353 0.11372549 0.18431373]\n",
      "   [0.05882353 0.11372549 0.18431373]\n",
      "   [0.05882353 0.11372549 0.18431373]]\n",
      "\n",
      "  [[0.07058824 0.1254902  0.21176471]\n",
      "   [0.06666667 0.12156863 0.20784314]\n",
      "   [0.06666667 0.12156863 0.20784314]\n",
      "   ...\n",
      "   [0.05490196 0.10980392 0.18039216]\n",
      "   [0.05490196 0.10980392 0.18039216]\n",
      "   [0.05490196 0.10980392 0.18039216]]\n",
      "\n",
      "  ...\n",
      "\n",
      "  [[0.07843138 0.09803922 0.14901961]\n",
      "   [0.06666667 0.09019608 0.13333334]\n",
      "   [0.05490196 0.07450981 0.11372549]\n",
      "   ...\n",
      "   [0.03529412 0.02745098 0.02352941]\n",
      "   [0.03529412 0.02745098 0.02352941]\n",
      "   [0.03529412 0.02745098 0.02352941]]\n",
      "\n",
      "  [[0.07450981 0.09019608 0.13333334]\n",
      "   [0.0627451  0.07843138 0.12156863]\n",
      "   [0.04313726 0.0627451  0.10196079]\n",
      "   ...\n",
      "   [0.03529412 0.02745098 0.02352941]\n",
      "   [0.03529412 0.02745098 0.02352941]\n",
      "   [0.03529412 0.02745098 0.02352941]]\n",
      "\n",
      "  [[0.06666667 0.08235294 0.1254902 ]\n",
      "   [0.05098039 0.06666667 0.10980392]\n",
      "   [0.03529412 0.05098039 0.09019608]\n",
      "   ...\n",
      "   [0.03529412 0.02745098 0.02352941]\n",
      "   [0.03529412 0.02745098 0.02352941]\n",
      "   [0.03529412 0.02745098 0.02352941]]]\n",
      "\n",
      "\n",
      " [[[0.07450981 0.16862746 0.30980393]\n",
      "   [0.07450981 0.16862746 0.30980393]\n",
      "   [0.07450981 0.16862746 0.30980393]\n",
      "   ...\n",
      "   [0.08235294 0.17254902 0.32156864]\n",
      "   [0.08627451 0.1764706  0.3254902 ]\n",
      "   [0.08627451 0.1764706  0.3254902 ]]\n",
      "\n",
      "  [[0.07450981 0.16862746 0.30980393]\n",
      "   [0.07450981 0.16862746 0.30980393]\n",
      "   [0.07450981 0.16862746 0.30980393]\n",
      "   ...\n",
      "   [0.08235294 0.17254902 0.32156864]\n",
      "   [0.08235294 0.17254902 0.32156864]\n",
      "   [0.08235294 0.17254902 0.32156864]]\n",
      "\n",
      "  [[0.07450981 0.16862746 0.30980393]\n",
      "   [0.07450981 0.16862746 0.30980393]\n",
      "   [0.07450981 0.16862746 0.30980393]\n",
      "   ...\n",
      "   [0.07843138 0.16862746 0.31764707]\n",
      "   [0.07843138 0.16862746 0.31764707]\n",
      "   [0.07843138 0.16862746 0.31764707]]\n",
      "\n",
      "  ...\n",
      "\n",
      "  [[0.06666667 0.07058824 0.0627451 ]\n",
      "   [0.0627451  0.06666667 0.05882353]\n",
      "   [0.05490196 0.05882353 0.05098039]\n",
      "   ...\n",
      "   [0.03921569 0.04705882 0.03921569]\n",
      "   [0.03921569 0.04705882 0.03921569]\n",
      "   [0.03529412 0.04313726 0.03529412]]\n",
      "\n",
      "  [[0.05490196 0.05882353 0.05098039]\n",
      "   [0.05490196 0.05882353 0.05490196]\n",
      "   [0.05490196 0.05882353 0.05098039]\n",
      "   ...\n",
      "   [0.03529412 0.04705882 0.03921569]\n",
      "   [0.03529412 0.04705882 0.03921569]\n",
      "   [0.03137255 0.04313726 0.03529412]]\n",
      "\n",
      "  [[0.03921569 0.04313726 0.03529412]\n",
      "   [0.04705882 0.05098039 0.04313726]\n",
      "   [0.05490196 0.05882353 0.05098039]\n",
      "   ...\n",
      "   [0.03529412 0.04705882 0.03921569]\n",
      "   [0.03137255 0.04705882 0.03921569]\n",
      "   [0.03137255 0.04313726 0.03529412]]]]\n"
     ]
    }
   ],
   "source": [
    "print(X)"
   ]
  },
  {
   "cell_type": "markdown",
   "metadata": {
    "colab_type": "text",
    "id": "hDv_bHEVk8ud"
   },
   "source": [
    "#### Split the dataset"
   ]
  },
  {
   "cell_type": "code",
   "execution_count": 17,
   "metadata": {
    "colab": {
     "base_uri": "https://localhost:8080/",
     "height": 52
    },
    "colab_type": "code",
    "id": "np1T4rRlk8ue",
    "outputId": "b52c590b-ce42-4090-d9a1-534d9226c03d"
   },
   "outputs": [
    {
     "name": "stdout",
     "output_type": "stream",
     "text": [
      "(1152, 224, 224, 3) (288, 224, 224, 3)\n",
      "(1152, 72) (288, 72)\n"
     ]
    }
   ],
   "source": [
    "from sklearn.model_selection import train_test_split\n",
    "\n",
    "X_train, X_test, y_train, y_test = train_test_split(X, Y, test_size=0.2, random_state=456)\n",
    "# Check the number of images in each dataset split\n",
    "print(X_train.shape, X_test.shape)\n",
    "print(y_train.shape, y_test.shape)"
   ]
  },
  {
   "cell_type": "markdown",
   "metadata": {
    "colab_type": "text",
    "id": "bBmv6ZSTk8uj"
   },
   "source": [
    "## CNN Model"
   ]
  },
  {
   "cell_type": "code",
   "execution_count": 0,
   "metadata": {
    "colab": {},
    "colab_type": "code",
    "id": "uXZEyiIsk8uk"
   },
   "outputs": [],
   "source": [
    "from keras.models import Sequential\n",
    "from keras.layers import Dense, Dropout, Flatten\n",
    "from keras.layers import Conv2D, MaxPooling2D"
   ]
  },
  {
   "cell_type": "code",
   "execution_count": 0,
   "metadata": {
    "colab": {},
    "colab_type": "code",
    "id": "9Isqn4RWk8uo"
   },
   "outputs": [],
   "source": [
    "###Defining the model\n",
    "## Build the model\n",
    "model = Sequential()\n",
    "\n",
    "model.add(Conv2D(32, (3, 3),activation='relu', input_shape=input_shape))\n",
    "model.add(Conv2D(32, (3, 3),activation='relu'))\n",
    "model.add(MaxPooling2D(pool_size=(2, 2)))\n",
    "model.add(Dropout(0.2))\n",
    "\n",
    "model.add(Conv2D(64, (3, 3),activation='relu'))\n",
    "model.add(Conv2D(64, (3, 3),activation='relu'))\n",
    "model.add(MaxPooling2D(pool_size=(2, 2)))\n",
    "model.add(Dropout(0.2))\n",
    "\n",
    "model.add(Flatten())\n",
    "model.add(Dense(64, activation='relu'))\n",
    "model.add(Dropout(0.2))\n",
    "model.add(Dense(num_classes, activation='softmax'))"
   ]
  },
  {
   "cell_type": "code",
   "execution_count": 0,
   "metadata": {
    "colab": {},
    "colab_type": "code",
    "id": "Mx4e2oYMk8ur"
   },
   "outputs": [],
   "source": [
    "#Compile the model\n",
    "model.compile(loss='categorical_crossentropy', optimizer='adam', metrics=[\"accuracy\"])"
   ]
  },
  {
   "cell_type": "code",
   "execution_count": 22,
   "metadata": {
    "colab": {
     "base_uri": "https://localhost:8080/",
     "height": 585
    },
    "colab_type": "code",
    "id": "ATVb7yMsk8uu",
    "outputId": "47670ed1-0f63-43fa-cdef-da9b7f5180cd"
   },
   "outputs": [
    {
     "name": "stdout",
     "output_type": "stream",
     "text": [
      "Model: \"sequential_1\"\n",
      "_________________________________________________________________\n",
      "Layer (type)                 Output Shape              Param #   \n",
      "=================================================================\n",
      "conv2d_1 (Conv2D)            (None, 222, 222, 32)      896       \n",
      "_________________________________________________________________\n",
      "conv2d_2 (Conv2D)            (None, 220, 220, 32)      9248      \n",
      "_________________________________________________________________\n",
      "max_pooling2d_1 (MaxPooling2 (None, 110, 110, 32)      0         \n",
      "_________________________________________________________________\n",
      "dropout_1 (Dropout)          (None, 110, 110, 32)      0         \n",
      "_________________________________________________________________\n",
      "conv2d_3 (Conv2D)            (None, 108, 108, 64)      18496     \n",
      "_________________________________________________________________\n",
      "conv2d_4 (Conv2D)            (None, 106, 106, 64)      36928     \n",
      "_________________________________________________________________\n",
      "max_pooling2d_2 (MaxPooling2 (None, 53, 53, 64)        0         \n",
      "_________________________________________________________________\n",
      "dropout_2 (Dropout)          (None, 53, 53, 64)        0         \n",
      "_________________________________________________________________\n",
      "flatten_1 (Flatten)          (None, 179776)            0         \n",
      "_________________________________________________________________\n",
      "dense_1 (Dense)              (None, 64)                11505728  \n",
      "_________________________________________________________________\n",
      "dropout_3 (Dropout)          (None, 64)                0         \n",
      "_________________________________________________________________\n",
      "dense_2 (Dense)              (None, 72)                4680      \n",
      "=================================================================\n",
      "Total params: 11,575,976\n",
      "Trainable params: 11,575,976\n",
      "Non-trainable params: 0\n",
      "_________________________________________________________________\n"
     ]
    }
   ],
   "source": [
    "#getting model summary\n",
    "model.summary()"
   ]
  },
  {
   "cell_type": "code",
   "execution_count": 23,
   "metadata": {
    "colab": {
     "base_uri": "https://localhost:8080/",
     "height": 1000
    },
    "colab_type": "code",
    "id": "tIY8_gHIk8u4",
    "outputId": "7158c831-69b1-4af7-82a1-ada62182a808"
   },
   "outputs": [
    {
     "data": {
      "text/plain": [
       "[<tf.Variable 'conv2d_1/kernel:0' shape=(3, 3, 3, 32) dtype=float32, numpy=\n",
       " array([[[[ 0.03837878,  0.06701146,  0.06052716,  0.09768201,\n",
       "            0.11419468,  0.00716428,  0.0532514 ,  0.08306266,\n",
       "           -0.07456577, -0.0628031 ,  0.06780033, -0.03465322,\n",
       "           -0.06764877,  0.03440996, -0.05882552, -0.11859679,\n",
       "            0.054405  ,  0.01485139, -0.03913885, -0.04261963,\n",
       "            0.0069859 ,  0.07725108, -0.13569713,  0.1228034 ,\n",
       "           -0.05619332,  0.11223073, -0.10645942,  0.00122264,\n",
       "           -0.08916814, -0.06103778, -0.07287693,  0.05063576],\n",
       "          [ 0.10715899,  0.00951467, -0.01578819,  0.09564355,\n",
       "            0.08058687, -0.06561873, -0.07845733, -0.0765424 ,\n",
       "           -0.06753031, -0.02556295,  0.09655604,  0.00508502,\n",
       "            0.11358215,  0.12461112, -0.06070097, -0.10835689,\n",
       "            0.12109847,  0.13700022, -0.05250804, -0.04472808,\n",
       "            0.10158128, -0.08719398, -0.04198384, -0.00642067,\n",
       "           -0.11277898,  0.09310658,  0.09457263,  0.026458  ,\n",
       "           -0.00836557, -0.10081476, -0.00394483,  0.09291439],\n",
       "          [-0.04466414, -0.07794514,  0.08194199, -0.09882421,\n",
       "            0.13535435,  0.05337387,  0.10578813, -0.08540122,\n",
       "            0.05650516, -0.04576106, -0.01439685,  0.03912312,\n",
       "           -0.00037919, -0.00166219,  0.0523755 , -0.05328052,\n",
       "            0.08177921, -0.04899216, -0.07834263,  0.02318294,\n",
       "           -0.12395884, -0.0310611 ,  0.03963049,  0.09187694,\n",
       "            0.09820715, -0.05866228, -0.10843856,  0.05129872,\n",
       "            0.09879798,  0.07536279, -0.07626189,  0.01444519]],\n",
       " \n",
       "         [[-0.10237205,  0.00669673, -0.05797546, -0.13572504,\n",
       "            0.11065349,  0.04306461, -0.1182149 , -0.11018746,\n",
       "            0.05945377, -0.05112962, -0.08903208,  0.07427002,\n",
       "           -0.07588378,  0.05583173,  0.06871538, -0.0293202 ,\n",
       "           -0.02131777, -0.06276795, -0.13284437, -0.12221268,\n",
       "            0.11973612, -0.09201165,  0.05819756,  0.06676912,\n",
       "            0.06606871, -0.1196868 ,  0.00357607, -0.08787682,\n",
       "           -0.00347775, -0.07839116,  0.08276461, -0.11632665],\n",
       "          [-0.00320257, -0.11538659,  0.11684136, -0.02573725,\n",
       "           -0.0927781 ,  0.08303161,  0.0665734 ,  0.03333084,\n",
       "            0.09821086, -0.00690433, -0.09133857, -0.04080503,\n",
       "            0.10272512,  0.11049873,  0.12406953, -0.06820736,\n",
       "           -0.11568971,  0.06475882, -0.09261246, -0.01571175,\n",
       "            0.05704691, -0.04581717,  0.02108322, -0.04719835,\n",
       "            0.04857291,  0.0281727 ,  0.09792449, -0.12596883,\n",
       "           -0.02316741, -0.09298171,  0.10664402,  0.11778189],\n",
       "          [-0.08195101, -0.03918801,  0.10120329, -0.00413868,\n",
       "            0.12274478, -0.04801702,  0.1349044 , -0.0719799 ,\n",
       "           -0.08480837, -0.0510805 ,  0.07469559,  0.08602118,\n",
       "           -0.09042665, -0.02437186, -0.03800251, -0.07884729,\n",
       "            0.06796472,  0.11435287,  0.11515917,  0.02345224,\n",
       "           -0.10916059, -0.09393434, -0.02584982,  0.05121364,\n",
       "           -0.01276328, -0.02084584, -0.11161204, -0.09668374,\n",
       "           -0.11740323,  0.03411503,  0.04014222, -0.12011404]],\n",
       " \n",
       "         [[-0.01530173, -0.0008855 ,  0.13052766,  0.09158546,\n",
       "           -0.07062538, -0.092694  , -0.11058034,  0.0909888 ,\n",
       "           -0.03711359,  0.04430364, -0.0677335 , -0.05601186,\n",
       "           -0.08780611, -0.01622083, -0.00075589, -0.11856365,\n",
       "           -0.13131663,  0.01044872,  0.10853408, -0.1374368 ,\n",
       "            0.02608907, -0.07247519,  0.01664944,  0.09056567,\n",
       "           -0.09075268, -0.1092132 ,  0.07697177, -0.10070219,\n",
       "           -0.13342716, -0.01445042, -0.00908409,  0.12931411],\n",
       "          [ 0.00574075,  0.12213449, -0.08938274,  0.07441102,\n",
       "           -0.04611199,  0.02167106,  0.07804464,  0.12107338,\n",
       "           -0.01059873, -0.06941126, -0.11320934, -0.0025676 ,\n",
       "           -0.04157575,  0.04965407, -0.06377807, -0.05628944,\n",
       "           -0.1266778 , -0.03118785,  0.06051493, -0.12286268,\n",
       "            0.0235239 ,  0.07142118,  0.01952721, -0.02728582,\n",
       "           -0.00757323, -0.05391528,  0.04631354,  0.10607733,\n",
       "            0.07452704,  0.10310826, -0.06537543,  0.07495922],\n",
       "          [ 0.1130849 , -0.0392141 , -0.09577999, -0.10847011,\n",
       "            0.01641585,  0.04054998, -0.07295553,  0.00768447,\n",
       "           -0.05460343, -0.11206023,  0.12086292, -0.07963059,\n",
       "            0.03634809, -0.10916904, -0.08915517, -0.02633586,\n",
       "            0.13044633, -0.13324082,  0.01898661,  0.03518812,\n",
       "            0.10809766, -0.06079882,  0.01874033, -0.05136361,\n",
       "            0.11360882, -0.08032162,  0.07008636,  0.01236677,\n",
       "           -0.01475873,  0.01029532, -0.0432444 ,  0.09671299]]],\n",
       " \n",
       " \n",
       "        [[[-0.01426598,  0.13385107,  0.10262926,  0.12280665,\n",
       "           -0.00467566,  0.12519826,  0.09856634,  0.07910451,\n",
       "           -0.12105116,  0.07153954, -0.07058089, -0.09651642,\n",
       "            0.00420551,  0.12246548,  0.03123878,  0.13492747,\n",
       "            0.1173308 , -0.06413677, -0.01452975, -0.13685285,\n",
       "           -0.054941  ,  0.0343582 , -0.12540165,  0.0885307 ,\n",
       "            0.09710617,  0.07914616,  0.02171433, -0.10739534,\n",
       "           -0.03018425, -0.09424154, -0.05227998,  0.09176815],\n",
       "          [-0.04246649, -0.06670331,  0.04509605,  0.05796775,\n",
       "           -0.01912142,  0.12054144, -0.07881333,  0.0903592 ,\n",
       "           -0.08515018,  0.03237259,  0.10189071, -0.11091281,\n",
       "           -0.12929015, -0.10578955,  0.08446728, -0.07314997,\n",
       "            0.00305213, -0.01816811,  0.02560221, -0.09557548,\n",
       "           -0.0798725 ,  0.11387445, -0.10926733,  0.11501212,\n",
       "           -0.05646226, -0.10107937,  0.11209397, -0.01979433,\n",
       "            0.09661026,  0.02087286,  0.02543268,  0.00549473],\n",
       "          [ 0.12193348, -0.08800682,  0.02618164,  0.11848141,\n",
       "           -0.04481643,  0.13599916, -0.03382889, -0.01449796,\n",
       "            0.03834973,  0.10745493, -0.05335005,  0.00526702,\n",
       "           -0.03695486, -0.09418126, -0.02023197,  0.00766848,\n",
       "           -0.0561207 , -0.06907697,  0.06870291, -0.13248765,\n",
       "           -0.13271476,  0.10284324, -0.08488958, -0.00820145,\n",
       "            0.10114104, -0.00081012, -0.05641573, -0.13185108,\n",
       "           -0.07723515,  0.09300061, -0.02083166, -0.12131898]],\n",
       " \n",
       "         [[-0.12444879,  0.12725033, -0.11490855,  0.04203929,\n",
       "           -0.00246717, -0.04875205, -0.05079433, -0.06395911,\n",
       "           -0.10985166, -0.12764676, -0.08894248, -0.01209399,\n",
       "            0.02093327,  0.04956296, -0.12242139,  0.01729205,\n",
       "            0.07039152, -0.06599632,  0.09584227, -0.1322466 ,\n",
       "           -0.06999067, -0.03626731, -0.11220264, -0.08115188,\n",
       "           -0.02228191,  0.09813827,  0.0558957 , -0.1179125 ,\n",
       "            0.08589423, -0.10127144,  0.12993829, -0.065373  ],\n",
       "          [ 0.13450246,  0.02434024, -0.08673713, -0.10645762,\n",
       "           -0.07494657, -0.01917269,  0.12553133,  0.10571663,\n",
       "            0.0485502 , -0.02705444, -0.00335261, -0.05834553,\n",
       "            0.06767584, -0.04300758, -0.07899839,  0.03736314,\n",
       "            0.02344631,  0.00977413, -0.04066163,  0.12506045,\n",
       "           -0.00484784,  0.05206949,  0.07793921,  0.07020728,\n",
       "            0.11375426,  0.10652339,  0.13555782, -0.10996512,\n",
       "            0.11953498,  0.0206365 , -0.0804853 ,  0.0523809 ],\n",
       "          [ 0.09344745, -0.05040019, -0.08532636, -0.01683374,\n",
       "            0.07860616,  0.08787969, -0.10675564,  0.12354501,\n",
       "            0.05610405,  0.10588202, -0.09680302,  0.03838016,\n",
       "           -0.11739803,  0.06509617,  0.0789313 , -0.06742547,\n",
       "            0.0021963 ,  0.04763262, -0.13008997,  0.10673422,\n",
       "            0.10618559,  0.04432252, -0.12717403,  0.00187433,\n",
       "           -0.10961705,  0.12380676,  0.12836172, -0.08541465,\n",
       "            0.11602093, -0.12738338,  0.11848052,  0.00272113]],\n",
       " \n",
       "         [[-0.02587403, -0.09032741,  0.11663885,  0.064963  ,\n",
       "           -0.06107756,  0.05160277,  0.07278363, -0.086114  ,\n",
       "           -0.07196096,  0.01815267,  0.0587652 , -0.05001365,\n",
       "           -0.02114122,  0.08124332, -0.12727678,  0.04270959,\n",
       "           -0.0128102 ,  0.01748128,  0.02394521, -0.11767812,\n",
       "           -0.07842325,  0.13194396,  0.01204325,  0.12798946,\n",
       "            0.05173823, -0.06364395,  0.10221834,  0.00244917,\n",
       "           -0.00029226, -0.00231861, -0.10164867, -0.09271318],\n",
       "          [ 0.01424015,  0.09724447, -0.08430627, -0.0348599 ,\n",
       "           -0.07362051, -0.11160286, -0.07819824, -0.06625502,\n",
       "            0.04112825, -0.05527867,  0.08610243, -0.03246393,\n",
       "            0.12697385, -0.1120318 ,  0.08291829, -0.00278668,\n",
       "            0.02028199,  0.04139918,  0.1034174 ,  0.09737162,\n",
       "           -0.01208241,  0.02611563,  0.13717593, -0.02281898,\n",
       "           -0.01438217,  0.08778508, -0.06260761,  0.08620034,\n",
       "           -0.03280233,  0.0411783 ,  0.03926942,  0.07719576],\n",
       "          [-0.00629595, -0.03283019, -0.05378795,  0.10423259,\n",
       "           -0.06861341, -0.12445238,  0.0399027 , -0.08998898,\n",
       "            0.06602925, -0.0490224 ,  0.05350517,  0.03555317,\n",
       "            0.09191997, -0.13467069, -0.05018233, -0.13339323,\n",
       "           -0.12571277,  0.0455177 , -0.08040918, -0.06195892,\n",
       "            0.12162502, -0.01971125,  0.11444671, -0.03945925,\n",
       "            0.12307499, -0.02881195, -0.07109582,  0.02133825,\n",
       "            0.0355255 ,  0.04552355, -0.02723841, -0.1105784 ]]],\n",
       " \n",
       " \n",
       "        [[[ 0.0279272 , -0.06787732, -0.13674407,  0.0390361 ,\n",
       "            0.12602581,  0.08942914,  0.0824459 , -0.12360692,\n",
       "            0.06196955, -0.13220899,  0.0320925 ,  0.11673187,\n",
       "            0.03750321,  0.07347694,  0.13328134,  0.03353633,\n",
       "            0.12353341,  0.04708548, -0.10553421, -0.02353621,\n",
       "            0.0689548 , -0.08005016,  0.11022542,  0.10128741,\n",
       "           -0.0929088 ,  0.05407497,  0.01009713, -0.12227836,\n",
       "            0.13259088,  0.0010117 , -0.08456115,  0.0184273 ],\n",
       "          [ 0.12967737, -0.1294298 ,  0.12971361,  0.01614304,\n",
       "           -0.11074413, -0.06943524,  0.07645194,  0.08111072,\n",
       "            0.06025234, -0.11443456,  0.08622572,  0.06115338,\n",
       "           -0.0084836 , -0.0656013 , -0.10227257,  0.0094666 ,\n",
       "           -0.06661081, -0.1267398 , -0.03035992,  0.01629746,\n",
       "            0.12703241, -0.03433368,  0.00806667, -0.08775313,\n",
       "            0.04023926,  0.08186516,  0.09412335, -0.04254895,\n",
       "            0.12982528, -0.07129226, -0.13332255,  0.13346298],\n",
       "          [ 0.0925115 ,  0.09630442,  0.11366393, -0.10823458,\n",
       "           -0.0175309 , -0.00305957,  0.04870957, -0.00030628,\n",
       "            0.08225919, -0.10608734, -0.07122763, -0.0906835 ,\n",
       "           -0.05101594,  0.03699782,  0.0893967 , -0.0441244 ,\n",
       "            0.07937258,  0.00408126, -0.02500245, -0.07889543,\n",
       "           -0.09142281,  0.1268029 , -0.10042629, -0.04212832,\n",
       "           -0.05471294, -0.08261098, -0.09267551, -0.10018265,\n",
       "            0.03408374,  0.08199172,  0.0439045 , -0.12189406]],\n",
       " \n",
       "         [[ 0.12490927, -0.01345211,  0.0585729 , -0.00047064,\n",
       "           -0.08379079, -0.05049746, -0.04913352, -0.0991789 ,\n",
       "            0.12322138,  0.03029616, -0.08740059,  0.10688891,\n",
       "           -0.1306568 ,  0.11446248,  0.09434474, -0.12386753,\n",
       "            0.04385196,  0.13722293, -0.09029914, -0.03887045,\n",
       "           -0.03268906, -0.01926808,  0.05605628, -0.02910691,\n",
       "           -0.12465935, -0.10782649, -0.07441839,  0.11421113,\n",
       "            0.12740295,  0.06601958,  0.00864793,  0.03419486],\n",
       "          [-0.02682298, -0.07397874,  0.047548  ,  0.12700482,\n",
       "           -0.01259276, -0.05251317,  0.12881781, -0.00382394,\n",
       "           -0.08543929, -0.11305715,  0.07744192, -0.04258426,\n",
       "            0.02136663,  0.07649887, -0.10133383,  0.06111883,\n",
       "            0.08807309, -0.02865746,  0.04549782,  0.06906553,\n",
       "           -0.06220222,  0.0706204 , -0.11158706, -0.01881784,\n",
       "           -0.08034617,  0.13269918, -0.04769202, -0.07536605,\n",
       "            0.13413389,  0.03371967, -0.13500477,  0.08009715],\n",
       "          [-0.11222956,  0.09041429, -0.05694263, -0.02790275,\n",
       "           -0.05286638,  0.04039536, -0.02305738, -0.01838218,\n",
       "            0.04591802, -0.06208893, -0.10033862, -0.09721009,\n",
       "            0.05695531,  0.04585266,  0.05014008,  0.06828129,\n",
       "            0.04029579, -0.06174665, -0.05693033, -0.00615397,\n",
       "            0.01719151, -0.0273027 , -0.10877439, -0.01203299,\n",
       "           -0.06005757, -0.09345929,  0.00340526,  0.00268734,\n",
       "            0.01948345, -0.07390685,  0.10950641,  0.1200753 ]],\n",
       " \n",
       "         [[-0.0659619 ,  0.07650995, -0.00080459,  0.02047701,\n",
       "           -0.11886168,  0.00112498, -0.13223639, -0.08971117,\n",
       "            0.06231324,  0.052301  , -0.08449884,  0.12539141,\n",
       "            0.01907532,  0.04613729,  0.01208541,  0.03099957,\n",
       "           -0.04575115, -0.06613801, -0.01875483, -0.07264788,\n",
       "           -0.12881303, -0.10871249,  0.06752419,  0.06971352,\n",
       "            0.02800006,  0.11577545,  0.10635021, -0.03896353,\n",
       "            0.13644575, -0.06409635,  0.00871523, -0.04756977],\n",
       "          [-0.08527569,  0.04061815, -0.04914059,  0.07070507,\n",
       "            0.05745928,  0.12842025,  0.07020298, -0.13208756,\n",
       "           -0.04393049,  0.07292905,  0.05323242,  0.07952684,\n",
       "            0.05063118,  0.11081241,  0.02395542,  0.0134685 ,\n",
       "           -0.02924613, -0.08699438, -0.0201655 , -0.08474275,\n",
       "           -0.03221356, -0.08110713, -0.13255978, -0.02279397,\n",
       "            0.08933523, -0.08809356, -0.02426779, -0.09007329,\n",
       "           -0.0223746 ,  0.06771827,  0.08152261, -0.1340017 ],\n",
       "          [ 0.11280344,  0.12182881,  0.12319188, -0.1370836 ,\n",
       "            0.12321492,  0.02832101,  0.06616975, -0.0448565 ,\n",
       "            0.08075272, -0.08912326,  0.06691676, -0.01973379,\n",
       "           -0.09181359,  0.04586546,  0.11616109, -0.04747504,\n",
       "           -0.13350086,  0.10789724,  0.10149843,  0.00706115,\n",
       "           -0.08247475,  0.09956536, -0.06238919,  0.1212319 ,\n",
       "            0.01444906, -0.13492163,  0.05325162, -0.07269569,\n",
       "            0.0317421 , -0.01037511,  0.09445362, -0.07718164]]]],\n",
       "       dtype=float32)>,\n",
       " <tf.Variable 'conv2d_1/bias:0' shape=(32,) dtype=float32, numpy=\n",
       " array([0., 0., 0., 0., 0., 0., 0., 0., 0., 0., 0., 0., 0., 0., 0., 0., 0.,\n",
       "        0., 0., 0., 0., 0., 0., 0., 0., 0., 0., 0., 0., 0., 0., 0.],\n",
       "       dtype=float32)>,\n",
       " <tf.Variable 'conv2d_2/kernel:0' shape=(3, 3, 32, 32) dtype=float32, numpy=\n",
       " array([[[[ 7.22600967e-02,  1.94080099e-02, -3.72729525e-02, ...,\n",
       "            1.33477747e-02, -1.36629865e-02,  8.30606818e-02],\n",
       "          [ 5.39914966e-02,  6.62135631e-02, -5.04455492e-02, ...,\n",
       "            8.05822015e-02, -7.71097839e-02, -1.52054876e-02],\n",
       "          [ 9.52502787e-02, -2.15521455e-03,  5.03927022e-02, ...,\n",
       "           -3.59468013e-02, -9.95397568e-06,  9.21959132e-02],\n",
       "          ...,\n",
       "          [ 6.51028007e-02,  3.03505361e-02,  5.70172518e-02, ...,\n",
       "            6.33228123e-02,  9.27604735e-03, -1.56028047e-02],\n",
       "          [ 8.90906453e-02,  4.97900546e-02,  7.26410002e-02, ...,\n",
       "            6.62662834e-02, -8.31276700e-02,  7.10368752e-02],\n",
       "          [ 5.93831390e-02,  5.08778840e-02, -4.66689654e-02, ...,\n",
       "            1.00680396e-01,  7.63901323e-03,  9.90491956e-02]],\n",
       " \n",
       "         [[-4.75034118e-02, -4.62690704e-02, -8.77955705e-02, ...,\n",
       "           -7.89386034e-03, -8.50883722e-02, -2.14470103e-02],\n",
       "          [-8.91960338e-02, -6.73835576e-02, -2.12241635e-02, ...,\n",
       "            7.68824071e-02, -1.11156404e-02, -1.47210583e-02],\n",
       "          [-7.41210207e-02,  8.77424777e-02,  2.28887647e-02, ...,\n",
       "            2.04629153e-02, -5.00894785e-02,  8.35465789e-02],\n",
       "          ...,\n",
       "          [ 9.57261026e-02, -7.79480711e-02,  2.34716237e-02, ...,\n",
       "            7.07655102e-02, -4.73319814e-02,  8.27873498e-02],\n",
       "          [ 3.70810330e-02,  2.29888409e-03, -4.02974114e-02, ...,\n",
       "            2.72265077e-03,  2.70428658e-02, -6.44492358e-03],\n",
       "          [ 4.87872213e-03, -3.35206315e-02,  7.46576041e-02, ...,\n",
       "            7.06506222e-02, -9.51829702e-02,  8.30126256e-02]],\n",
       " \n",
       "         [[ 4.62173671e-03,  5.59167415e-02, -1.95786580e-02, ...,\n",
       "            3.52277458e-02, -2.51696259e-03,  9.96738970e-02],\n",
       "          [-7.58060366e-02,  2.40468234e-03, -1.65415183e-02, ...,\n",
       "           -2.11807266e-02,  2.91878134e-02, -9.59541500e-02],\n",
       "          [ 6.35144413e-02, -7.36875385e-02, -9.32663679e-03, ...,\n",
       "           -4.99005541e-02, -1.00153647e-01, -1.99990943e-02],\n",
       "          ...,\n",
       "          [ 2.57663280e-02, -8.50932151e-02,  1.16222352e-02, ...,\n",
       "            8.91055912e-02, -2.01273039e-02,  3.58098745e-02],\n",
       "          [ 9.43164527e-02, -2.69962102e-02, -5.84382527e-02, ...,\n",
       "            8.44701529e-02,  1.95259750e-02,  4.21947390e-02],\n",
       "          [ 7.73269534e-02,  5.59113324e-02,  1.82851404e-02, ...,\n",
       "           -6.16909824e-02, -7.03811795e-02, -2.36598924e-02]]],\n",
       " \n",
       " \n",
       "        [[[-4.02428210e-04,  5.01184613e-02, -9.57835987e-02, ...,\n",
       "            8.28000158e-02,  9.86802280e-02, -1.51748210e-03],\n",
       "          [ 5.49713373e-02, -1.31262913e-02,  4.85623777e-02, ...,\n",
       "           -9.08772126e-02,  7.76994526e-02, -7.44524673e-02],\n",
       "          [-9.41103995e-02,  2.34083533e-02, -8.99844393e-02, ...,\n",
       "           -7.67154992e-03, -5.66597171e-02,  8.84562433e-02],\n",
       "          ...,\n",
       "          [ 7.96155632e-03, -8.20600912e-02, -2.10469663e-02, ...,\n",
       "            9.53024477e-02, -9.40068811e-03, -2.41810009e-02],\n",
       "          [ 6.25285506e-03,  8.05611461e-02, -2.53080577e-03, ...,\n",
       "            7.00770169e-02, -6.21668734e-02,  4.89538759e-02],\n",
       "          [-7.18608499e-02, -7.77444988e-02, -8.02874193e-02, ...,\n",
       "           -9.38925445e-02,  5.15125245e-02,  6.00404441e-02]],\n",
       " \n",
       "         [[ 6.32569939e-02, -4.74798083e-02,  6.06546402e-02, ...,\n",
       "            1.90637112e-02, -9.78376567e-02,  1.98557153e-02],\n",
       "          [ 9.98944193e-02,  7.45599419e-02,  9.12974030e-02, ...,\n",
       "            6.51576370e-02,  8.31510574e-02,  5.91843128e-02],\n",
       "          [-4.72792760e-02, -1.04509667e-02,  3.50311846e-02, ...,\n",
       "            1.76586732e-02,  3.20891440e-02, -5.07947057e-03],\n",
       "          ...,\n",
       "          [ 4.49235290e-02,  9.16875452e-02,  3.76116931e-02, ...,\n",
       "           -4.74348143e-02, -7.92702585e-02,  6.21193498e-02],\n",
       "          [-5.52885011e-02, -8.11620653e-02,  2.72720307e-02, ...,\n",
       "            5.20230830e-03,  7.44082034e-03, -5.55728376e-03],\n",
       "          [-7.08464533e-03,  1.81037784e-02, -5.26361242e-02, ...,\n",
       "            7.95197636e-02, -6.07578158e-02, -1.25559643e-02]],\n",
       " \n",
       "         [[ 5.20923883e-02,  6.52189553e-02, -2.26292536e-02, ...,\n",
       "           -9.17502195e-02, -4.10905480e-03,  9.64366645e-02],\n",
       "          [ 8.48834366e-02,  6.89031929e-02,  2.61000395e-02, ...,\n",
       "           -3.69662046e-02, -9.09683406e-02, -5.12830615e-02],\n",
       "          [-6.55542612e-02,  4.86173779e-02,  1.00075006e-01, ...,\n",
       "            4.27735448e-02,  5.73462099e-02, -9.67533588e-02],\n",
       "          ...,\n",
       "          [ 9.70236510e-02,  5.20250797e-02,  7.90161937e-02, ...,\n",
       "            9.87849832e-02, -4.69188727e-02,  6.67317808e-02],\n",
       "          [ 1.01165339e-01,  1.19107589e-02, -7.17337802e-02, ...,\n",
       "            4.08323109e-03,  3.97779346e-02,  9.73754674e-02],\n",
       "          [ 6.23459667e-02,  5.84299266e-02, -3.70370671e-02, ...,\n",
       "           -5.59922233e-02,  1.11274868e-02, -1.01463616e-01]]],\n",
       " \n",
       " \n",
       "        [[[-4.97164577e-03, -1.78073496e-02, -7.74312764e-02, ...,\n",
       "           -6.46389574e-02,  8.81769508e-02,  1.01950064e-01],\n",
       "          [-1.79926977e-02, -7.54470006e-02, -9.46099684e-02, ...,\n",
       "            6.66404516e-03, -8.48328918e-02, -9.10165682e-02],\n",
       "          [-8.29612762e-02,  6.56158477e-02,  1.40839070e-02, ...,\n",
       "            7.88332224e-02,  7.67214000e-02, -4.87959087e-02],\n",
       "          ...,\n",
       "          [-7.24157989e-02, -8.59674364e-02, -2.01586187e-02, ...,\n",
       "           -5.01119383e-02, -2.29814500e-02, -6.79790974e-02],\n",
       "          [ 6.23782873e-02, -9.89581719e-02, -8.23365673e-02, ...,\n",
       "            4.01519239e-02,  2.49579400e-02,  3.54283750e-02],\n",
       "          [-6.16275445e-02, -8.34277794e-02,  6.04565740e-02, ...,\n",
       "           -1.00309357e-01,  7.56997466e-02, -3.93671170e-02]],\n",
       " \n",
       "         [[-3.97110730e-03, -7.95513988e-02, -9.37755257e-02, ...,\n",
       "           -3.85264233e-02, -4.56454046e-02,  6.74054176e-02],\n",
       "          [-9.33007747e-02,  7.67312050e-02,  3.60916555e-03, ...,\n",
       "            5.96562624e-02,  2.47643739e-02, -1.74366981e-02],\n",
       "          [ 1.71420500e-02,  1.91247910e-02, -3.01279798e-02, ...,\n",
       "           -2.95414478e-02, -4.62655425e-02,  5.09171635e-02],\n",
       "          ...,\n",
       "          [-8.38351473e-02, -9.00534466e-02,  5.46873361e-02, ...,\n",
       "            5.69217205e-02, -7.09899291e-02,  3.18854898e-02],\n",
       "          [-8.98894146e-02, -8.55760276e-03,  6.40686154e-02, ...,\n",
       "           -8.81140903e-02, -9.47251841e-02, -1.39563084e-02],\n",
       "          [ 4.49517518e-02, -9.96318907e-02, -8.08701366e-02, ...,\n",
       "            5.44505566e-02, -1.25273466e-02, -5.11328019e-02]],\n",
       " \n",
       "         [[ 7.60180801e-02, -5.96124381e-02,  6.05240762e-02, ...,\n",
       "           -9.72683802e-02, -6.21779934e-02,  7.98092186e-02],\n",
       "          [-9.12005752e-02, -6.70459121e-02,  2.01437026e-02, ...,\n",
       "            6.65498525e-02, -7.54792914e-02, -5.27207553e-02],\n",
       "          [ 3.73780429e-02, -9.64084566e-02, -6.69519082e-02, ...,\n",
       "           -4.64000106e-02, -6.12646341e-02,  1.63161159e-02],\n",
       "          ...,\n",
       "          [ 6.77062422e-02, -8.53438675e-03, -9.01076645e-02, ...,\n",
       "            5.73907197e-02, -6.22369759e-02, -1.70650780e-02],\n",
       "          [ 8.85097980e-02, -5.62468991e-02,  1.69027522e-02, ...,\n",
       "           -5.55550493e-02, -3.44679579e-02,  5.03521115e-02],\n",
       "          [ 4.25370932e-02, -5.21120541e-02, -7.00185150e-02, ...,\n",
       "            9.68600065e-02,  4.99272197e-02,  4.97187376e-02]]]],\n",
       "       dtype=float32)>,\n",
       " <tf.Variable 'conv2d_2/bias:0' shape=(32,) dtype=float32, numpy=\n",
       " array([0., 0., 0., 0., 0., 0., 0., 0., 0., 0., 0., 0., 0., 0., 0., 0., 0.,\n",
       "        0., 0., 0., 0., 0., 0., 0., 0., 0., 0., 0., 0., 0., 0., 0.],\n",
       "       dtype=float32)>,\n",
       " <tf.Variable 'conv2d_3/kernel:0' shape=(3, 3, 32, 64) dtype=float32, numpy=\n",
       " array([[[[-2.57081389e-02, -7.37141818e-02, -5.05921468e-02, ...,\n",
       "            6.95791617e-02,  2.15246305e-02, -6.50929436e-02],\n",
       "          [-1.64758191e-02,  4.77311090e-02,  5.93604520e-02, ...,\n",
       "            2.45985165e-02, -4.12861258e-03,  5.71314245e-03],\n",
       "          [ 6.96684197e-02, -1.03615746e-02,  7.40844086e-02, ...,\n",
       "            3.59913930e-02, -5.18774986e-03, -6.69501051e-02],\n",
       "          ...,\n",
       "          [-9.05390829e-03,  6.55569881e-03,  4.41727117e-02, ...,\n",
       "            1.52169466e-02,  3.72902751e-02,  7.96828493e-02],\n",
       "          [-5.39773703e-03, -4.86467034e-03,  5.07031903e-02, ...,\n",
       "            6.00200072e-02, -1.57498717e-02, -7.11554885e-02],\n",
       "          [ 3.92983779e-02,  5.10202423e-02,  6.24876842e-02, ...,\n",
       "            5.24852052e-02, -3.47637758e-02, -8.25025886e-02]],\n",
       " \n",
       "         [[ 1.41512528e-02, -7.68542141e-02, -7.74229392e-02, ...,\n",
       "            6.29397407e-02,  1.18072852e-02, -8.11227411e-02],\n",
       "          [-4.08336334e-02,  2.66293883e-02,  2.32175216e-02, ...,\n",
       "            9.28243250e-03, -4.61940579e-02,  4.31235209e-02],\n",
       "          [-7.76290148e-02, -5.20779304e-02,  2.01979876e-02, ...,\n",
       "            2.40475759e-02, -5.46375141e-02, -7.16772303e-02],\n",
       "          ...,\n",
       "          [-7.49712437e-02,  4.88693193e-02, -6.20455146e-02, ...,\n",
       "           -9.16294008e-03,  3.71400267e-03,  1.69443861e-02],\n",
       "          [-6.40471205e-02,  2.65986100e-02,  7.12985620e-02, ...,\n",
       "           -6.08338118e-02, -2.58301906e-02, -7.60879368e-03],\n",
       "          [-1.80575475e-02, -3.93601656e-02,  1.35938749e-02, ...,\n",
       "            2.31583342e-02,  2.47959718e-02, -4.17236239e-03]],\n",
       " \n",
       "         [[ 2.91624442e-02,  2.77112722e-02, -1.79234520e-02, ...,\n",
       "           -2.77653337e-02,  4.58250418e-02,  3.27115878e-02],\n",
       "          [-6.76868185e-02, -9.68471915e-03,  2.49791518e-02, ...,\n",
       "           -6.13920689e-02,  2.11964026e-02, -7.74560571e-02],\n",
       "          [-6.58899546e-02, -1.86655670e-03,  1.46870613e-02, ...,\n",
       "           -4.91686463e-02,  1.43893138e-02,  2.95254961e-02],\n",
       "          ...,\n",
       "          [ 3.69231477e-02,  4.76034731e-03,  1.09127536e-02, ...,\n",
       "           -6.65709376e-02, -8.23701620e-02, -7.54445419e-02],\n",
       "          [-7.32366443e-02, -5.95373511e-02, -6.90553784e-02, ...,\n",
       "           -1.00797191e-02,  1.67131424e-03,  7.93632939e-02],\n",
       "          [ 7.67884329e-02, -5.80948815e-02,  5.27338609e-02, ...,\n",
       "           -2.19236612e-02,  2.67061591e-02, -7.66595602e-02]]],\n",
       " \n",
       " \n",
       "        [[[ 5.58964685e-02, -7.63207525e-02,  3.14379111e-02, ...,\n",
       "            5.71892485e-02,  4.35877517e-02, -6.94188103e-02],\n",
       "          [-7.99503550e-02,  8.17141160e-02, -1.52746066e-02, ...,\n",
       "            5.65576181e-02,  9.66093689e-03,  4.89039049e-02],\n",
       "          [-1.30598322e-02,  6.54763803e-02,  7.33490363e-02, ...,\n",
       "            5.05296662e-02, -1.25139952e-02, -1.63716078e-03],\n",
       "          ...,\n",
       "          [-6.43596649e-02, -7.39385337e-02,  6.58298805e-02, ...,\n",
       "            5.47658280e-02, -4.97897081e-02, -5.93973026e-02],\n",
       "          [-3.52431349e-02, -7.07211122e-02,  1.70757771e-02, ...,\n",
       "           -1.34835392e-03, -2.28870921e-02, -4.77143936e-02],\n",
       "          [ 1.36681646e-03, -8.05446953e-02,  2.51859426e-03, ...,\n",
       "            5.80128059e-02, -9.42847878e-03, -4.41728458e-02]],\n",
       " \n",
       "         [[ 2.85034776e-02,  8.12942013e-02, -2.91674733e-02, ...,\n",
       "            5.25519326e-02, -4.98131514e-02,  1.85553059e-02],\n",
       "          [-1.08821616e-02,  6.59629330e-02,  2.44845971e-02, ...,\n",
       "            9.44968313e-03, -6.61707968e-02,  7.14307800e-02],\n",
       "          [ 5.47509864e-02, -8.02736506e-02,  2.75477767e-02, ...,\n",
       "            4.08234596e-02,  5.19458130e-02, -5.61223850e-02],\n",
       "          ...,\n",
       "          [-6.76883683e-02,  5.05234823e-02, -3.96828875e-02, ...,\n",
       "           -1.05754510e-02,  3.15497518e-02, -1.88740343e-03],\n",
       "          [ 7.31548443e-02, -6.66234940e-02, -4.44235615e-02, ...,\n",
       "           -6.66401237e-02, -3.64743695e-02, -1.20765567e-02],\n",
       "          [-1.46832690e-02, -1.98004842e-02, -5.73686771e-02, ...,\n",
       "            2.58034468e-03,  2.16176361e-03,  4.72898260e-02]],\n",
       " \n",
       "         [[ 7.97896609e-02, -7.77271986e-02, -7.25988001e-02, ...,\n",
       "           -1.80618167e-02,  1.42142773e-02,  6.62615970e-02],\n",
       "          [-5.04460558e-02,  2.95608863e-02, -5.29412627e-02, ...,\n",
       "           -5.07082939e-02,  2.98076496e-02,  6.59954548e-03],\n",
       "          [ 1.88490525e-02,  5.33206239e-02,  7.14229569e-02, ...,\n",
       "            3.83912101e-02, -4.72399592e-02, -1.37637854e-02],\n",
       "          ...,\n",
       "          [-7.62443393e-02, -3.11834440e-02,  6.72843307e-03, ...,\n",
       "           -6.00363016e-02, -3.85772400e-02, -8.23911875e-02],\n",
       "          [ 5.38789406e-02, -7.32879490e-02,  4.04280424e-03, ...,\n",
       "            6.53250888e-02,  6.35532364e-02,  3.95440683e-02],\n",
       "          [-2.03634724e-02, -7.24784359e-02,  5.01812920e-02, ...,\n",
       "           -3.23741436e-02,  5.78673854e-02, -4.91382703e-02]]],\n",
       " \n",
       " \n",
       "        [[[ 7.16736540e-02, -1.20580569e-02,  4.87818941e-02, ...,\n",
       "           -1.32542625e-02, -1.30803958e-02,  5.08160070e-02],\n",
       "          [ 3.71481404e-02,  2.24892125e-02, -1.40166059e-02, ...,\n",
       "            8.08501318e-02, -4.65692878e-02,  7.96667486e-03],\n",
       "          [ 4.11908627e-02,  3.85789648e-02, -1.69438720e-02, ...,\n",
       "           -2.13234238e-02,  7.90344700e-02, -3.49056721e-02],\n",
       "          ...,\n",
       "          [-4.60127406e-02, -5.37568331e-03, -8.16805214e-02, ...,\n",
       "            5.62318191e-02, -1.23988986e-02, -7.17947930e-02],\n",
       "          [-6.82583451e-02,  1.55799389e-02, -4.61455993e-02, ...,\n",
       "            2.66103372e-02, -1.98818743e-04,  4.08434272e-02],\n",
       "          [ 4.65552881e-02,  8.26906338e-02, -8.28497633e-02, ...,\n",
       "            4.06697020e-02,  5.42913303e-02,  5.41519746e-02]],\n",
       " \n",
       "         [[-7.82012939e-03, -3.23445797e-02,  5.50511107e-02, ...,\n",
       "            1.18126869e-02, -1.01604238e-02,  3.30010056e-02],\n",
       "          [-3.78869586e-02, -6.84905276e-02, -4.29776534e-02, ...,\n",
       "           -1.57988071e-02,  2.99308077e-02, -2.48963237e-02],\n",
       "          [ 7.85282627e-02, -5.66036515e-02,  7.40899220e-02, ...,\n",
       "           -2.83588171e-02, -3.32984552e-02, -4.22643051e-02],\n",
       "          ...,\n",
       "          [-7.05756545e-02,  4.67932001e-02,  7.80975893e-02, ...,\n",
       "            5.71715310e-02, -3.28350291e-02, -3.15539241e-02],\n",
       "          [ 3.07857990e-04,  2.61721760e-03,  6.18679151e-02, ...,\n",
       "            7.83256963e-02, -2.30879597e-02,  4.47759703e-02],\n",
       "          [-2.42656097e-02,  7.89183453e-02,  4.71696258e-05, ...,\n",
       "           -5.28393798e-02,  6.83605149e-02, -1.42490864e-02]],\n",
       " \n",
       "         [[-6.82761669e-02, -3.47232446e-02, -1.12504736e-02, ...,\n",
       "            4.37368229e-02, -1.79858431e-02,  3.37179750e-03],\n",
       "          [-5.92499189e-02,  4.31492999e-02, -3.22165340e-03, ...,\n",
       "            8.09283629e-02,  1.08518451e-03,  1.06589422e-02],\n",
       "          [-6.96281195e-02, -1.78316012e-02, -4.34813648e-03, ...,\n",
       "            8.14720765e-02, -3.32280993e-02,  1.86145306e-04],\n",
       "          ...,\n",
       "          [-1.17428526e-02, -6.80594668e-02,  3.61762270e-02, ...,\n",
       "            2.50203833e-02,  5.43006882e-02, -1.83209777e-05],\n",
       "          [ 2.41339207e-03, -2.32380629e-03, -3.73160839e-03, ...,\n",
       "           -5.68648577e-02, -2.55227908e-02, -4.63062748e-02],\n",
       "          [-5.17422967e-02,  1.47011876e-02, -1.60560235e-02, ...,\n",
       "            2.34579667e-02,  7.93702826e-02, -3.21551785e-02]]]],\n",
       "       dtype=float32)>,\n",
       " <tf.Variable 'conv2d_3/bias:0' shape=(64,) dtype=float32, numpy=\n",
       " array([0., 0., 0., 0., 0., 0., 0., 0., 0., 0., 0., 0., 0., 0., 0., 0., 0.,\n",
       "        0., 0., 0., 0., 0., 0., 0., 0., 0., 0., 0., 0., 0., 0., 0., 0., 0.,\n",
       "        0., 0., 0., 0., 0., 0., 0., 0., 0., 0., 0., 0., 0., 0., 0., 0., 0.,\n",
       "        0., 0., 0., 0., 0., 0., 0., 0., 0., 0., 0., 0., 0.], dtype=float32)>,\n",
       " <tf.Variable 'conv2d_4/kernel:0' shape=(3, 3, 64, 64) dtype=float32, numpy=\n",
       " array([[[[-7.23347813e-03,  8.57180357e-03,  8.35373253e-03, ...,\n",
       "            2.97576264e-02,  6.84956014e-02, -1.02761835e-02],\n",
       "          [ 2.10001096e-02,  5.73720336e-02, -4.50358391e-02, ...,\n",
       "           -4.08425927e-04, -4.27719951e-03, -3.48132513e-02],\n",
       "          [ 5.64728081e-02,  9.29631293e-03, -6.65696040e-02, ...,\n",
       "            2.82279924e-02, -6.72188699e-02, -3.33666615e-02],\n",
       "          ...,\n",
       "          [ 5.27582839e-02,  7.01621175e-03,  2.22265273e-02, ...,\n",
       "            6.46573901e-02, -3.51162069e-02, -3.79962102e-02],\n",
       "          [-3.60382795e-02, -2.33819336e-03, -3.50744985e-02, ...,\n",
       "            1.78054720e-02,  4.13325056e-02,  3.83327976e-02],\n",
       "          [-6.41582459e-02, -4.70353663e-03, -5.18126711e-02, ...,\n",
       "            6.73058480e-02,  5.40408939e-02, -4.28189673e-02]],\n",
       " \n",
       "         [[-4.85960767e-02, -2.51272991e-02, -6.13367632e-02, ...,\n",
       "            3.07062119e-02, -8.04275274e-04,  7.12730736e-02],\n",
       "          [ 1.35487840e-02, -5.99374026e-02,  3.15846801e-02, ...,\n",
       "            1.97510272e-02,  2.40779668e-02,  4.25667763e-02],\n",
       "          [-6.56613111e-02,  4.37171087e-02,  6.14866614e-02, ...,\n",
       "            3.00010219e-02, -2.51580477e-02,  2.26070508e-02],\n",
       "          ...,\n",
       "          [ 5.55812567e-03,  6.46779835e-02,  5.30646741e-02, ...,\n",
       "           -4.01718691e-02, -2.99788639e-02, -4.81948927e-02],\n",
       "          [ 4.07872871e-02,  5.95494658e-02, -1.16842501e-02, ...,\n",
       "            4.31383178e-02, -6.44979179e-02,  1.00203902e-02],\n",
       "          [ 3.53945792e-03,  2.15006769e-02,  5.52854091e-02, ...,\n",
       "           -3.17192860e-02, -7.10330755e-02,  2.07950920e-03]],\n",
       " \n",
       "         [[-3.46594267e-02,  4.74725217e-02, -6.66195899e-02, ...,\n",
       "           -7.08717629e-02, -6.49923831e-02, -6.65806681e-02],\n",
       "          [-3.33624966e-02,  6.52185082e-02,  1.32430270e-02, ...,\n",
       "           -6.08734302e-02,  4.28827852e-02,  4.79062572e-02],\n",
       "          [-1.34935156e-02,  3.87277380e-02,  4.05461937e-02, ...,\n",
       "            6.70179725e-05, -5.70040941e-02, -6.79905266e-02],\n",
       "          ...,\n",
       "          [ 1.61272287e-02, -5.82407713e-02, -3.31766009e-02, ...,\n",
       "           -6.67080656e-02, -2.83022746e-02, -1.10221840e-02],\n",
       "          [ 6.89752996e-02, -3.22000869e-02, -1.36704855e-02, ...,\n",
       "           -5.09782508e-02, -1.12208128e-02,  2.27078572e-02],\n",
       "          [ 5.09539023e-02, -5.72390854e-04, -2.99574919e-02, ...,\n",
       "           -2.38831341e-03,  6.84323758e-02,  1.32979527e-02]]],\n",
       " \n",
       " \n",
       "        [[[ 3.56559455e-03, -2.00358033e-03, -1.68031976e-02, ...,\n",
       "           -6.12781420e-02, -6.12665974e-02,  9.67012346e-03],\n",
       "          [-5.46468049e-03,  2.99753994e-03,  4.14073244e-02, ...,\n",
       "           -4.52368073e-02, -3.38858478e-02,  9.33457911e-03],\n",
       "          [-5.96763492e-02, -5.19063957e-02, -4.69704196e-02, ...,\n",
       "            3.38260531e-02, -4.19726968e-03,  4.30733114e-02],\n",
       "          ...,\n",
       "          [ 9.78562981e-03,  4.37723696e-02,  4.89377230e-03, ...,\n",
       "            6.59775436e-02, -5.06960973e-02, -4.37142700e-02],\n",
       "          [-3.59504409e-02, -3.41471955e-02,  6.18953854e-02, ...,\n",
       "            2.36205384e-02,  2.08606496e-02,  3.18761766e-02],\n",
       "          [ 2.72368044e-02,  3.65023687e-02,  2.84147188e-02, ...,\n",
       "           -3.56859602e-02, -4.61008623e-02, -4.66190800e-02]],\n",
       " \n",
       "         [[ 2.73195505e-02,  7.19311088e-03, -5.99193051e-02, ...,\n",
       "            5.33024371e-02,  8.17374885e-03,  3.78269702e-02],\n",
       "          [-2.38262229e-02,  4.99397442e-02,  4.95476797e-02, ...,\n",
       "            4.78553101e-02, -4.10366617e-02,  1.83157399e-02],\n",
       "          [ 3.35169211e-02, -1.38060898e-02, -1.17453933e-03, ...,\n",
       "           -7.69598037e-03, -3.06256115e-04, -1.17462948e-02],\n",
       "          ...,\n",
       "          [ 6.97259754e-02,  1.13025308e-03, -5.15607707e-02, ...,\n",
       "           -1.22214332e-02,  4.00030762e-02,  5.03468961e-02],\n",
       "          [-2.26877108e-02, -3.52085158e-02, -4.14291248e-02, ...,\n",
       "           -8.28026235e-03,  6.46645576e-02, -2.98857689e-03],\n",
       "          [ 2.87643149e-02,  8.84240866e-03,  5.31363934e-02, ...,\n",
       "            3.48875523e-02,  3.78341749e-02,  1.20477155e-02]],\n",
       " \n",
       "         [[-3.82077433e-02,  5.39722443e-02,  3.89050990e-02, ...,\n",
       "            3.45390514e-02,  6.40357435e-02,  4.65071872e-02],\n",
       "          [ 1.56951696e-03,  3.93439084e-03, -2.49861740e-02, ...,\n",
       "           -5.17848134e-03,  4.81374040e-02, -7.51985610e-03],\n",
       "          [-2.20244415e-02, -7.09029436e-02,  6.33234233e-02, ...,\n",
       "           -3.91339995e-02, -4.52816486e-03,  1.43726096e-02],\n",
       "          ...,\n",
       "          [ 4.62357774e-02,  3.63637507e-02, -3.49123776e-02, ...,\n",
       "           -3.12138163e-02,  1.75796002e-02,  6.92413300e-02],\n",
       "          [ 3.60429585e-02, -4.93520498e-03,  1.44695863e-02, ...,\n",
       "           -4.74860445e-02,  7.04942197e-02,  5.41262478e-02],\n",
       "          [-6.16377220e-02,  6.63910806e-02, -5.73252365e-02, ...,\n",
       "           -4.29795012e-02,  5.23927137e-02,  7.11792409e-02]]],\n",
       " \n",
       " \n",
       "        [[[ 6.07219934e-02, -4.46215570e-02,  9.47524607e-03, ...,\n",
       "            6.27028495e-02,  6.30712956e-02, -3.75644155e-02],\n",
       "          [-5.88491186e-02,  3.49392742e-02, -5.84015287e-02, ...,\n",
       "           -1.81701928e-02, -3.51851173e-02, -1.26751140e-02],\n",
       "          [-1.13625750e-02,  5.57763726e-02, -2.12676525e-02, ...,\n",
       "           -4.99837399e-02,  7.08128959e-02,  1.85905993e-02],\n",
       "          ...,\n",
       "          [-4.07396816e-02, -6.10009655e-02,  6.51223361e-02, ...,\n",
       "            6.37941062e-02, -4.73554134e-02,  6.23891950e-02],\n",
       "          [-9.64140147e-03, -1.66108124e-02, -2.50544846e-02, ...,\n",
       "           -2.47518048e-02,  3.22560444e-02,  5.25084808e-02],\n",
       "          [ 5.00991568e-02, -2.21847519e-02,  6.91345781e-02, ...,\n",
       "            6.33929074e-02,  6.30295128e-02,  6.76111877e-02]],\n",
       " \n",
       "         [[-1.40257105e-02, -5.58087006e-02,  8.25504959e-03, ...,\n",
       "            6.44809753e-02, -2.43020467e-02, -1.28166005e-02],\n",
       "          [-2.85396352e-02,  6.37599826e-03,  1.02185905e-02, ...,\n",
       "            1.70033276e-02,  1.75317302e-02, -3.69942486e-02],\n",
       "          [ 2.88904533e-02, -2.33099461e-02, -3.76010835e-02, ...,\n",
       "           -7.00399056e-02, -3.23652141e-02, -3.93878594e-02],\n",
       "          ...,\n",
       "          [ 2.61412412e-02,  2.96847895e-02, -6.01969101e-02, ...,\n",
       "            3.35152522e-02, -2.90023498e-02, -4.94310334e-02],\n",
       "          [-5.80768958e-02,  3.81612703e-02, -6.92831725e-02, ...,\n",
       "           -3.86121459e-02, -5.06512746e-02,  3.78658697e-02],\n",
       "          [ 5.44996858e-02,  6.01032674e-02,  6.13315105e-02, ...,\n",
       "            1.34264305e-02,  1.73463896e-02, -1.38812959e-02]],\n",
       " \n",
       "         [[ 4.52234372e-02,  1.95130482e-02,  2.02296600e-02, ...,\n",
       "            4.96217161e-02,  5.53806275e-02,  4.02996466e-02],\n",
       "          [-6.54337928e-02,  2.72777528e-02, -3.00826877e-02, ...,\n",
       "            5.41638434e-02, -6.01932406e-04, -1.33647025e-03],\n",
       "          [-2.77916044e-02, -2.86437683e-02, -2.88964100e-02, ...,\n",
       "            2.89283767e-02, -3.13895456e-02, -8.63636285e-03],\n",
       "          ...,\n",
       "          [-6.36838004e-02, -2.73164846e-02, -6.46277592e-02, ...,\n",
       "            6.35113120e-02, -2.35414244e-02,  1.38946846e-02],\n",
       "          [-6.37607500e-02, -2.42420845e-02, -3.97582129e-02, ...,\n",
       "            3.81550044e-02, -3.51832919e-02,  2.76204720e-02],\n",
       "          [-6.48048669e-02,  5.51143289e-02, -5.24642617e-02, ...,\n",
       "            2.41032243e-03,  4.34298962e-02, -5.58939204e-02]]]],\n",
       "       dtype=float32)>,\n",
       " <tf.Variable 'conv2d_4/bias:0' shape=(64,) dtype=float32, numpy=\n",
       " array([0., 0., 0., 0., 0., 0., 0., 0., 0., 0., 0., 0., 0., 0., 0., 0., 0.,\n",
       "        0., 0., 0., 0., 0., 0., 0., 0., 0., 0., 0., 0., 0., 0., 0., 0., 0.,\n",
       "        0., 0., 0., 0., 0., 0., 0., 0., 0., 0., 0., 0., 0., 0., 0., 0., 0.,\n",
       "        0., 0., 0., 0., 0., 0., 0., 0., 0., 0., 0., 0., 0.], dtype=float32)>,\n",
       " <tf.Variable 'dense_1/kernel:0' shape=(179776, 64) dtype=float32, numpy=\n",
       " array([[-9.0205530e-04, -2.4765648e-03,  2.1435018e-03, ...,\n",
       "          4.5746039e-03,  3.1494815e-04,  4.4800206e-03],\n",
       "        [ 4.0781670e-03, -2.1233067e-03, -1.3422221e-03, ...,\n",
       "          1.5319414e-03,  1.9332301e-04, -5.1209363e-03],\n",
       "        [-3.9656321e-04, -5.0348840e-03, -1.3273493e-03, ...,\n",
       "         -5.8291247e-04, -5.7444172e-03, -4.5739529e-03],\n",
       "        ...,\n",
       "        [ 5.6262384e-03,  2.2735214e-04,  5.3572701e-04, ...,\n",
       "         -5.7592764e-03,  2.1986989e-04, -5.1514683e-03],\n",
       "        [-1.5204535e-03, -2.6936159e-03, -5.4007359e-03, ...,\n",
       "         -5.3765699e-03,  5.1200935e-03, -2.2923499e-03],\n",
       "        [ 5.3290934e-03, -3.4093864e-03, -4.9147825e-03, ...,\n",
       "         -8.3354302e-05, -5.7691010e-03, -5.4907086e-03]], dtype=float32)>,\n",
       " <tf.Variable 'dense_1/bias:0' shape=(64,) dtype=float32, numpy=\n",
       " array([0., 0., 0., 0., 0., 0., 0., 0., 0., 0., 0., 0., 0., 0., 0., 0., 0.,\n",
       "        0., 0., 0., 0., 0., 0., 0., 0., 0., 0., 0., 0., 0., 0., 0., 0., 0.,\n",
       "        0., 0., 0., 0., 0., 0., 0., 0., 0., 0., 0., 0., 0., 0., 0., 0., 0.,\n",
       "        0., 0., 0., 0., 0., 0., 0., 0., 0., 0., 0., 0., 0.], dtype=float32)>,\n",
       " <tf.Variable 'dense_2/kernel:0' shape=(64, 72) dtype=float32, numpy=\n",
       " array([[-0.17493144, -0.17398751, -0.06162649, ..., -0.19042173,\n",
       "          0.05384223,  0.01666002],\n",
       "        [ 0.19517453,  0.12383483,  0.10775186, ..., -0.07635956,\n",
       "         -0.11315016, -0.0792774 ],\n",
       "        [ 0.16473801, -0.10946187, -0.1914587 , ...,  0.03773086,\n",
       "         -0.19419256,  0.1925086 ],\n",
       "        ...,\n",
       "        [-0.18056731,  0.08829789,  0.0845731 , ..., -0.14368963,\n",
       "         -0.11422794, -0.06051506],\n",
       "        [ 0.17092766,  0.06884949, -0.07303043, ..., -0.0545675 ,\n",
       "          0.01763299, -0.08076166],\n",
       "        [ 0.16034545,  0.09311993, -0.04487738, ..., -0.01724498,\n",
       "         -0.131987  , -0.03227797]], dtype=float32)>,\n",
       " <tf.Variable 'dense_2/bias:0' shape=(72,) dtype=float32, numpy=\n",
       " array([0., 0., 0., 0., 0., 0., 0., 0., 0., 0., 0., 0., 0., 0., 0., 0., 0.,\n",
       "        0., 0., 0., 0., 0., 0., 0., 0., 0., 0., 0., 0., 0., 0., 0., 0., 0.,\n",
       "        0., 0., 0., 0., 0., 0., 0., 0., 0., 0., 0., 0., 0., 0., 0., 0., 0.,\n",
       "        0., 0., 0., 0., 0., 0., 0., 0., 0., 0., 0., 0., 0., 0., 0., 0., 0.,\n",
       "        0., 0., 0., 0.], dtype=float32)>]"
      ]
     },
     "execution_count": 23,
     "metadata": {
      "tags": []
     },
     "output_type": "execute_result"
    }
   ],
   "source": [
    "model.weights"
   ]
  },
  {
   "cell_type": "code",
   "execution_count": 24,
   "metadata": {
    "colab": {
     "base_uri": "https://localhost:8080/",
     "height": 230
    },
    "colab_type": "code",
    "id": "frkHRf7wk8uz",
    "outputId": "0c6c5de8-5b70-43b7-f658-6eecaf9dfe40"
   },
   "outputs": [
    {
     "data": {
      "text/plain": [
       "[<keras.layers.convolutional.Conv2D at 0x7f87f650dc88>,\n",
       " <keras.layers.convolutional.Conv2D at 0x7f87f6513198>,\n",
       " <keras.layers.pooling.MaxPooling2D at 0x7f87f6513588>,\n",
       " <keras.layers.core.Dropout at 0x7f87f6513400>,\n",
       " <keras.layers.convolutional.Conv2D at 0x7f87f6513320>,\n",
       " <keras.layers.convolutional.Conv2D at 0x7f87f6513b38>,\n",
       " <keras.layers.pooling.MaxPooling2D at 0x7f87effdba20>,\n",
       " <keras.layers.core.Dropout at 0x7f87f64bb710>,\n",
       " <keras.layers.core.Flatten at 0x7f87effdbb00>,\n",
       " <keras.layers.core.Dense at 0x7f87effdbc50>,\n",
       " <keras.layers.core.Dropout at 0x7f87eff704a8>,\n",
       " <keras.layers.core.Dense at 0x7f87eff82b70>]"
      ]
     },
     "execution_count": 24,
     "metadata": {
      "tags": []
     },
     "output_type": "execute_result"
    }
   ],
   "source": [
    "model.layers"
   ]
  },
  {
   "cell_type": "markdown",
   "metadata": {
    "colab_type": "text",
    "id": "OrCSGr_Ik8u_"
   },
   "source": [
    "#### Training the model "
   ]
  },
  {
   "cell_type": "code",
   "execution_count": 25,
   "metadata": {
    "colab": {
     "base_uri": "https://localhost:8080/",
     "height": 354
    },
    "colab_type": "code",
    "id": "eGTdKGpek8u_",
    "outputId": "1a357fff-8fc1-4e68-a341-729a10cf3fa4"
   },
   "outputs": [
    {
     "name": "stdout",
     "output_type": "stream",
     "text": [
      "Train on 1152 samples, validate on 288 samples\n",
      "Epoch 1/8\n",
      "1152/1152 [==============================] - 270s 235ms/step - loss: 4.2054 - accuracy: 0.0417 - val_loss: 3.7859 - val_accuracy: 0.1285\n",
      "Epoch 2/8\n",
      "1152/1152 [==============================] - 264s 229ms/step - loss: 3.2523 - accuracy: 0.1806 - val_loss: 2.6550 - val_accuracy: 0.3472\n",
      "Epoch 3/8\n",
      "1152/1152 [==============================] - 254s 221ms/step - loss: 2.3105 - accuracy: 0.4080 - val_loss: 1.9256 - val_accuracy: 0.5382\n",
      "Epoch 4/8\n",
      "1152/1152 [==============================] - 257s 223ms/step - loss: 1.5710 - accuracy: 0.5703 - val_loss: 1.2168 - val_accuracy: 0.7118\n",
      "Epoch 5/8\n",
      "1152/1152 [==============================] - 255s 221ms/step - loss: 1.0621 - accuracy: 0.7031 - val_loss: 0.8987 - val_accuracy: 0.7951\n",
      "Epoch 6/8\n",
      "1152/1152 [==============================] - 265s 230ms/step - loss: 0.9112 - accuracy: 0.7300 - val_loss: 0.8068 - val_accuracy: 0.8021\n",
      "Epoch 7/8\n",
      "1152/1152 [==============================] - 265s 230ms/step - loss: 0.6497 - accuracy: 0.8108 - val_loss: 0.6635 - val_accuracy: 0.8507\n",
      "Epoch 8/8\n",
      "1152/1152 [==============================] - 271s 236ms/step - loss: 0.4721 - accuracy: 0.8524 - val_loss: 0.6491 - val_accuracy: 0.8333\n",
      "CPU times: user 1h 7min 15s, sys: 26.4 s, total: 1h 7min 42s\n",
      "Wall time: 35min 2s\n"
     ]
    }
   ],
   "source": [
    "%%time\n",
    "hist = model.fit(X_train, y_train, batch_size=batch_size, epochs=num_epoch, verbose=1, validation_data=(X_test, y_test))"
   ]
  },
  {
   "cell_type": "code",
   "execution_count": 26,
   "metadata": {
    "colab": {
     "base_uri": "https://localhost:8080/",
     "height": 70
    },
    "colab_type": "code",
    "id": "IB0yjjNjk8vD",
    "outputId": "437dfe99-f28d-4a66-d3da-976ce0b41a8f"
   },
   "outputs": [
    {
     "name": "stdout",
     "output_type": "stream",
     "text": [
      "288/288 [==============================] - 14s 49ms/step\n",
      "Test Loss: 0.6490501827663846\n",
      "Test Accuracy: 0.8333333134651184\n"
     ]
    }
   ],
   "source": [
    "#Evaluating the model\n",
    "score = model.evaluate(X_test, y_test, batch_size=batch_size)\n",
    "\n",
    "print('Test Loss:', score[0])\n",
    "print('Test Accuracy:', score[1])"
   ]
  },
  {
   "cell_type": "code",
   "execution_count": 0,
   "metadata": {
    "colab": {},
    "colab_type": "code",
    "id": "ON9IZoqKk8vJ"
   },
   "outputs": [],
   "source": [
    "#predicting on test data\n",
    "from sklearn.metrics import confusion_matrix\n",
    "\n",
    "Y_pred = model.predict(X_test)"
   ]
  },
  {
   "cell_type": "code",
   "execution_count": 28,
   "metadata": {
    "colab": {
     "base_uri": "https://localhost:8080/",
     "height": 230
    },
    "colab_type": "code",
    "id": "2LzftaIuk8vL",
    "outputId": "9b62daca-01b9-4699-fb56-2f1cc7c2e964"
   },
   "outputs": [
    {
     "name": "stdout",
     "output_type": "stream",
     "text": [
      "[68 69 35  0 44 14 60 67 24 46 68 13 70 44 58  4 66  5 39 21 30 67 62 58\n",
      "  2 24  3 13 69 46 28 30 19  9 26 71 49 26  2 62 24 24 40 29 64 26  7 52\n",
      "  4  2 14 18 67  0  9 17  7  4 60 41 33 26 23  9  3 26 69 49 13 67 41 25\n",
      " 71 34 46 28 40  7 23 57 49 25 29 28 58  8 31 56 28 30 27 29 47 35 53 68\n",
      " 36 67 59 40 52 39 38 18  0 48 32 30 29 41 42 13 23  3 23 70 26  1 50 66\n",
      " 19 13  8 23 42 51 46 70 43 26 41  0 67 66 13 35 69 15 52 37 58 44 43 54\n",
      " 21 16  0  8 51 29 18 35  2 48 62 67 45 68 34 17 50 19 24 41 22 61 60 49\n",
      " 33 29  4 10 68 26 37 17 64 44  0 54  0 63 31  6 23 15 44 59 45 29 57 48\n",
      " 15 16 71 27 10 38 33 10 18  6 43 15 21 27 18 44 11 24 68 31 45 50 15 17\n",
      " 53  6  1 25  4 35 20  1 27 43 40 59  2 34  4 60 14 53 25 31 62 17 29 17\n",
      " 53  0 67 64 15 46  7 36 43 45 59 38 10 65 26 66 26 32 61 29 54 10 18 32\n",
      " 49 63  8 16 65 32 42 31 71 29 21 50 57 61 36 57 26 32 16 11 57  9 16 14]\n"
     ]
    }
   ],
   "source": [
    "y_pred = np.argmax(Y_pred, axis=1)\n",
    "print(y_pred)"
   ]
  },
  {
   "cell_type": "code",
   "execution_count": 29,
   "metadata": {
    "colab": {
     "base_uri": "https://localhost:8080/",
     "height": 141
    },
    "colab_type": "code",
    "id": "-wHoLPeTk8vO",
    "outputId": "e36863d1-bdc0-4018-e86f-181a42ceefe3"
   },
   "outputs": [
    {
     "name": "stdout",
     "output_type": "stream",
     "text": [
      "[[5 0 0 ... 0 0 0]\n",
      " [0 3 0 ... 0 0 0]\n",
      " [0 0 5 ... 0 0 0]\n",
      " ...\n",
      " [0 0 0 ... 4 0 0]\n",
      " [0 0 0 ... 0 3 0]\n",
      " [0 0 0 ... 0 0 4]]\n"
     ]
    }
   ],
   "source": [
    "#compute the confusion matrix\n",
    "print(confusion_matrix(np.argmax(y_test, axis=1), y_pred))"
   ]
  },
  {
   "cell_type": "markdown",
   "metadata": {
    "colab_type": "text",
    "id": "vOBCNBCyk8vR"
   },
   "source": [
    "#### Saving and loading model and weights"
   ]
  },
  {
   "cell_type": "code",
   "execution_count": 0,
   "metadata": {
    "colab": {},
    "colab_type": "code",
    "id": "QqqIlpiak8vR"
   },
   "outputs": [],
   "source": [
    "from keras.models import model_from_json, load_model"
   ]
  },
  {
   "cell_type": "code",
   "execution_count": 0,
   "metadata": {
    "colab": {},
    "colab_type": "code",
    "id": "gIT_q5Oak8vU"
   },
   "outputs": [],
   "source": [
    "\n",
    "# Serialize weights to HDF5\n",
    "model.save_weights(\"modelcnn.h5\")\n",
    "model.save(\"modelcnn.hdf5\")"
   ]
  },
  {
   "cell_type": "code",
   "execution_count": 0,
   "metadata": {
    "colab": {},
    "colab_type": "code",
    "id": "nrzSNMyXk8vW"
   },
   "outputs": [],
   "source": [
    "# Load weights into new model\n",
    "model.load_weights(\"modelcnn.h5\")\n",
    "loaded_model = load_model('modelcnn.hdf5')"
   ]
  },
  {
   "cell_type": "markdown",
   "metadata": {
    "colab_type": "text",
    "id": "tFZI2be9k8vf"
   },
   "source": [
    "# Transfer Learning (VGG16)"
   ]
  },
  {
   "cell_type": "code",
   "execution_count": 0,
   "metadata": {
    "colab": {},
    "colab_type": "code",
    "id": "XP0ZCCLnk8vh"
   },
   "outputs": [],
   "source": [
    "from keras.layers import Input, Dense"
   ]
  },
  {
   "cell_type": "code",
   "execution_count": 0,
   "metadata": {
    "colab": {},
    "colab_type": "code",
    "id": "ai9hhjuXk8vk"
   },
   "outputs": [],
   "source": [
    "# Custom_vgg_model\n",
    "#Training the classifier alone\n",
    "image_input = Input(shape=(img_rows, img_cols, num_channel))"
   ]
  },
  {
   "cell_type": "code",
   "execution_count": 0,
   "metadata": {
    "colab": {},
    "colab_type": "code",
    "id": "p7zgQh0Vk8vn"
   },
   "outputs": [],
   "source": [
    "from keras.applications.vgg16 import VGG16\n",
    "\n",
    "model_vgg = VGG16(input_tensor=image_input, include_top=True, weights='imagenet')"
   ]
  },
  {
   "cell_type": "code",
   "execution_count": 37,
   "metadata": {
    "colab": {
     "base_uri": "https://localhost:8080/",
     "height": 976
    },
    "colab_type": "code",
    "id": "1dAX6WtQk8vu",
    "outputId": "4b35ffe1-dce3-4a64-f973-66fa12049a6d"
   },
   "outputs": [
    {
     "name": "stdout",
     "output_type": "stream",
     "text": [
      "Model: \"vgg16\"\n",
      "_________________________________________________________________\n",
      "Layer (type)                 Output Shape              Param #   \n",
      "=================================================================\n",
      "input_1 (InputLayer)         (None, 224, 224, 3)       0         \n",
      "_________________________________________________________________\n",
      "block1_conv1 (Conv2D)        (None, 224, 224, 64)      1792      \n",
      "_________________________________________________________________\n",
      "block1_conv2 (Conv2D)        (None, 224, 224, 64)      36928     \n",
      "_________________________________________________________________\n",
      "block1_pool (MaxPooling2D)   (None, 112, 112, 64)      0         \n",
      "_________________________________________________________________\n",
      "block2_conv1 (Conv2D)        (None, 112, 112, 128)     73856     \n",
      "_________________________________________________________________\n",
      "block2_conv2 (Conv2D)        (None, 112, 112, 128)     147584    \n",
      "_________________________________________________________________\n",
      "block2_pool (MaxPooling2D)   (None, 56, 56, 128)       0         \n",
      "_________________________________________________________________\n",
      "block3_conv1 (Conv2D)        (None, 56, 56, 256)       295168    \n",
      "_________________________________________________________________\n",
      "block3_conv2 (Conv2D)        (None, 56, 56, 256)       590080    \n",
      "_________________________________________________________________\n",
      "block3_conv3 (Conv2D)        (None, 56, 56, 256)       590080    \n",
      "_________________________________________________________________\n",
      "block3_pool (MaxPooling2D)   (None, 28, 28, 256)       0         \n",
      "_________________________________________________________________\n",
      "block4_conv1 (Conv2D)        (None, 28, 28, 512)       1180160   \n",
      "_________________________________________________________________\n",
      "block4_conv2 (Conv2D)        (None, 28, 28, 512)       2359808   \n",
      "_________________________________________________________________\n",
      "block4_conv3 (Conv2D)        (None, 28, 28, 512)       2359808   \n",
      "_________________________________________________________________\n",
      "block4_pool (MaxPooling2D)   (None, 14, 14, 512)       0         \n",
      "_________________________________________________________________\n",
      "block5_conv1 (Conv2D)        (None, 14, 14, 512)       2359808   \n",
      "_________________________________________________________________\n",
      "block5_conv2 (Conv2D)        (None, 14, 14, 512)       2359808   \n",
      "_________________________________________________________________\n",
      "block5_conv3 (Conv2D)        (None, 14, 14, 512)       2359808   \n",
      "_________________________________________________________________\n",
      "block5_pool (MaxPooling2D)   (None, 7, 7, 512)         0         \n",
      "_________________________________________________________________\n",
      "flatten (Flatten)            (None, 25088)             0         \n",
      "_________________________________________________________________\n",
      "fc1 (Dense)                  (None, 4096)              102764544 \n",
      "_________________________________________________________________\n",
      "fc2 (Dense)                  (None, 4096)              16781312  \n",
      "_________________________________________________________________\n",
      "predictions (Dense)          (None, 1000)              4097000   \n",
      "=================================================================\n",
      "Total params: 138,357,544\n",
      "Trainable params: 138,357,544\n",
      "Non-trainable params: 0\n",
      "_________________________________________________________________\n"
     ]
    }
   ],
   "source": [
    "model_vgg.summary()"
   ]
  },
  {
   "cell_type": "code",
   "execution_count": 0,
   "metadata": {
    "colab": {},
    "colab_type": "code",
    "id": "tSHWLZBkk8vy"
   },
   "outputs": [],
   "source": [
    "last_layer = model_vgg.get_layer('fc2').output\n",
    "out = Dense(num_classes, activation='softmax', name='output')(last_layer)"
   ]
  },
  {
   "cell_type": "code",
   "execution_count": 39,
   "metadata": {
    "colab": {
     "base_uri": "https://localhost:8080/",
     "height": 976
    },
    "colab_type": "code",
    "id": "HujIl_PYk8v7",
    "outputId": "192459d0-6fc6-4776-e139-e5898e1a6035"
   },
   "outputs": [
    {
     "name": "stdout",
     "output_type": "stream",
     "text": [
      "Model: \"model_1\"\n",
      "_________________________________________________________________\n",
      "Layer (type)                 Output Shape              Param #   \n",
      "=================================================================\n",
      "input_1 (InputLayer)         (None, 224, 224, 3)       0         \n",
      "_________________________________________________________________\n",
      "block1_conv1 (Conv2D)        (None, 224, 224, 64)      1792      \n",
      "_________________________________________________________________\n",
      "block1_conv2 (Conv2D)        (None, 224, 224, 64)      36928     \n",
      "_________________________________________________________________\n",
      "block1_pool (MaxPooling2D)   (None, 112, 112, 64)      0         \n",
      "_________________________________________________________________\n",
      "block2_conv1 (Conv2D)        (None, 112, 112, 128)     73856     \n",
      "_________________________________________________________________\n",
      "block2_conv2 (Conv2D)        (None, 112, 112, 128)     147584    \n",
      "_________________________________________________________________\n",
      "block2_pool (MaxPooling2D)   (None, 56, 56, 128)       0         \n",
      "_________________________________________________________________\n",
      "block3_conv1 (Conv2D)        (None, 56, 56, 256)       295168    \n",
      "_________________________________________________________________\n",
      "block3_conv2 (Conv2D)        (None, 56, 56, 256)       590080    \n",
      "_________________________________________________________________\n",
      "block3_conv3 (Conv2D)        (None, 56, 56, 256)       590080    \n",
      "_________________________________________________________________\n",
      "block3_pool (MaxPooling2D)   (None, 28, 28, 256)       0         \n",
      "_________________________________________________________________\n",
      "block4_conv1 (Conv2D)        (None, 28, 28, 512)       1180160   \n",
      "_________________________________________________________________\n",
      "block4_conv2 (Conv2D)        (None, 28, 28, 512)       2359808   \n",
      "_________________________________________________________________\n",
      "block4_conv3 (Conv2D)        (None, 28, 28, 512)       2359808   \n",
      "_________________________________________________________________\n",
      "block4_pool (MaxPooling2D)   (None, 14, 14, 512)       0         \n",
      "_________________________________________________________________\n",
      "block5_conv1 (Conv2D)        (None, 14, 14, 512)       2359808   \n",
      "_________________________________________________________________\n",
      "block5_conv2 (Conv2D)        (None, 14, 14, 512)       2359808   \n",
      "_________________________________________________________________\n",
      "block5_conv3 (Conv2D)        (None, 14, 14, 512)       2359808   \n",
      "_________________________________________________________________\n",
      "block5_pool (MaxPooling2D)   (None, 7, 7, 512)         0         \n",
      "_________________________________________________________________\n",
      "flatten (Flatten)            (None, 25088)             0         \n",
      "_________________________________________________________________\n",
      "fc1 (Dense)                  (None, 4096)              102764544 \n",
      "_________________________________________________________________\n",
      "fc2 (Dense)                  (None, 4096)              16781312  \n",
      "_________________________________________________________________\n",
      "output (Dense)               (None, 72)                294984    \n",
      "=================================================================\n",
      "Total params: 134,555,528\n",
      "Trainable params: 134,555,528\n",
      "Non-trainable params: 0\n",
      "_________________________________________________________________\n"
     ]
    }
   ],
   "source": [
    "from keras.models import Model\n",
    "\n",
    "custom_vgg_model = Model(image_input, out)\n",
    "custom_vgg_model.summary()"
   ]
  },
  {
   "cell_type": "code",
   "execution_count": 0,
   "metadata": {
    "colab": {},
    "colab_type": "code",
    "id": "bZNXpeeCk8v_"
   },
   "outputs": [],
   "source": [
    "for layer in custom_vgg_model.layers[:-1]:\n",
    "    layer.trainable = False"
   ]
  },
  {
   "cell_type": "code",
   "execution_count": 0,
   "metadata": {
    "colab": {},
    "colab_type": "code",
    "id": "AxNtFr_Hk8wF"
   },
   "outputs": [],
   "source": [
    "custom_vgg_model.compile(loss='categorical_crossentropy', optimizer='adam', metrics=['accuracy'])"
   ]
  },
  {
   "cell_type": "code",
   "execution_count": 42,
   "metadata": {
    "colab": {
     "base_uri": "https://localhost:8080/",
     "height": 372
    },
    "colab_type": "code",
    "id": "tu6Gr9nQk8wK",
    "outputId": "306c0636-e7f4-4444-db62-1abb949da205",
    "scrolled": true
   },
   "outputs": [
    {
     "name": "stdout",
     "output_type": "stream",
     "text": [
      "Train on 1152 samples, validate on 288 samples\n",
      "Epoch 1/8\n",
      "1152/1152 [==============================] - 719s 624ms/step - loss: 4.9985 - accuracy: 0.0286 - val_loss: 4.2164 - val_accuracy: 0.0486\n",
      "Epoch 2/8\n",
      "1152/1152 [==============================] - 718s 623ms/step - loss: 3.9453 - accuracy: 0.1502 - val_loss: 3.6126 - val_accuracy: 0.2431\n",
      "Epoch 3/8\n",
      "1152/1152 [==============================] - 719s 624ms/step - loss: 3.3452 - accuracy: 0.2708 - val_loss: 3.1812 - val_accuracy: 0.3160\n",
      "Epoch 4/8\n",
      "1152/1152 [==============================] - 721s 626ms/step - loss: 2.9018 - accuracy: 0.3845 - val_loss: 2.6669 - val_accuracy: 0.4514\n",
      "Epoch 5/8\n",
      "1152/1152 [==============================] - 733s 636ms/step - loss: 2.5066 - accuracy: 0.4549 - val_loss: 2.5722 - val_accuracy: 0.4688\n",
      "Epoch 6/8\n",
      "1152/1152 [==============================] - 719s 624ms/step - loss: 2.2349 - accuracy: 0.5312 - val_loss: 2.3202 - val_accuracy: 0.5208\n",
      "Epoch 7/8\n",
      "1152/1152 [==============================] - 719s 624ms/step - loss: 1.9468 - accuracy: 0.6198 - val_loss: 1.8586 - val_accuracy: 0.6319\n",
      "Epoch 8/8\n",
      "1152/1152 [==============================] - 721s 626ms/step - loss: 1.6145 - accuracy: 0.7335 - val_loss: 1.5497 - val_accuracy: 0.7465\n",
      "CPU times: user 3h 8min 13s, sys: 22 s, total: 3h 8min 35s\n",
      "Wall time: 1h 36min 10s\n"
     ]
    },
    {
     "data": {
      "text/plain": [
       "<keras.callbacks.callbacks.History at 0x7f87ee624da0>"
      ]
     },
     "execution_count": 42,
     "metadata": {
      "tags": []
     },
     "output_type": "execute_result"
    }
   ],
   "source": [
    "%%time\n",
    "custom_vgg_model.fit(X_train, y_train, batch_size=batch_size, epochs=num_epoch, verbose=1, validation_data=(X_test, y_test))"
   ]
  },
  {
   "cell_type": "code",
   "execution_count": 43,
   "metadata": {
    "colab": {
     "base_uri": "https://localhost:8080/",
     "height": 52
    },
    "colab_type": "code",
    "id": "X5Ryo0ypk8wO",
    "outputId": "3517e7db-9c5c-493b-83b0-c5232a76c36d"
   },
   "outputs": [
    {
     "name": "stdout",
     "output_type": "stream",
     "text": [
      "288/288 [==============================] - 145s 502ms/step\n",
      "[INFO] loss=1.5497, accuracy: 74.6528%\n"
     ]
    }
   ],
   "source": [
    "(loss, accuracy) = custom_vgg_model.evaluate(X_test, y_test, batch_size=batch_size, verbose=1)\n",
    "\n",
    "print(\"[INFO] loss={:.4f}, accuracy: {:.4f}%\".format(loss, accuracy * 100))"
   ]
  },
  {
   "cell_type": "code",
   "execution_count": 0,
   "metadata": {
    "colab": {},
    "colab_type": "code",
    "id": "VPYbhilfk8wR"
   },
   "outputs": [],
   "source": [
    "Y_train_pred = custom_vgg_model.predict(X_test)"
   ]
  },
  {
   "cell_type": "code",
   "execution_count": 45,
   "metadata": {
    "colab": {
     "base_uri": "https://localhost:8080/",
     "height": 230
    },
    "colab_type": "code",
    "id": "mli0ovHPk8wT",
    "outputId": "c5787619-0bf5-4fcb-d3cf-3703bc5aa8e3"
   },
   "outputs": [
    {
     "name": "stdout",
     "output_type": "stream",
     "text": [
      "[68 69 35  0 64 15 60 67 24 46 33 13 69 44 58  4 56  5 39 21 30 16 62 33\n",
      "  2 24 20 13 69 46 56 64 19  9 68 71 49 26  2 62 24 24 40 55 64 43 56 52\n",
      "  4  2 71 10 16  0  9 47 47  4 60 41 33 26 56  9 33 26 69 49 13 51 69 25\n",
      " 71 32 46 56 40 33 23  6 49 25 47 30 33 39 31 56 56 30 27 55 47 35 53 68\n",
      " 36 30 32 40 52 47 38 68 43 47 32 30 55 41 42 13 23 33 23 47 26  1 50 66\n",
      " 33 13  8 23 22 51 46 32 43 26 41  0 64 66 44 35 69 15 52 42 33 44 43 54\n",
      " 21 16  6  6 23 55 33 35  2 47 27 30 45 68 34 17 50 33 24  1 22 26 60 49\n",
      " 33 26  4 10 68 26 42 29 64 44  0 54  0 69 31  6 23 15 44 33 45 55  6 47\n",
      " 15 16 71 27 10 38 33 71 49  6 43 15 21 27 33 47  2 30 68 31 45 50 15 20\n",
      " 33 68 30 25  4 35 20  1 27 43 40 30  2 32  4 33 60 53 25 31 62 31 64 68\n",
      " 51 17 30 64 15 46 36 36 47 45 13 38 10 65 26 66 26 32 47 55  1 10  6 32\n",
      " 49 63  8 16 65 32 42 31 71 47 21 50  6 47 36  6 26 32 16 47  6  9 30 56]\n"
     ]
    }
   ],
   "source": [
    "y_train_pred = np.argmax(Y_train_pred, axis=1)\n",
    "print(y_train_pred)"
   ]
  },
  {
   "cell_type": "code",
   "execution_count": 46,
   "metadata": {
    "colab": {
     "base_uri": "https://localhost:8080/",
     "height": 141
    },
    "colab_type": "code",
    "id": "SRfAcmEYk8wY",
    "outputId": "edc5b4bd-825c-4140-fa1f-1e9ce10b4535"
   },
   "outputs": [
    {
     "name": "stdout",
     "output_type": "stream",
     "text": [
      "[[5 0 0 ... 0 0 0]\n",
      " [0 3 0 ... 0 0 0]\n",
      " [0 0 6 ... 0 0 0]\n",
      " ...\n",
      " [0 0 0 ... 4 0 0]\n",
      " [0 0 0 ... 1 0 0]\n",
      " [0 0 0 ... 0 0 5]]\n"
     ]
    }
   ],
   "source": [
    "print(confusion_matrix(np.argmax(y_test, axis=1), y_train_pred))"
   ]
  },
  {
   "cell_type": "markdown",
   "metadata": {
    "colab_type": "text",
    "id": "pUJgSCdImjYy"
   },
   "source": [
    "**Conclusion**:\n",
    "The final accuracy is much higher than 50% baseline . However, it could be increased by larger number of train images or through model hyperparameters tuning."
   ]
  }
 ],
 "metadata": {
  "colab": {
   "collapsed_sections": [],
   "name": "Face recognition classifier.ipynb",
   "provenance": []
  },
  "kernelspec": {
   "display_name": "Python 3",
   "language": "python",
   "name": "python3"
  },
  "language_info": {
   "codemirror_mode": {
    "name": "ipython",
    "version": 3
   },
   "file_extension": ".py",
   "mimetype": "text/x-python",
   "name": "python",
   "nbconvert_exporter": "python",
   "pygments_lexer": "ipython3",
   "version": "3.7.3"
  }
 },
 "nbformat": 4,
 "nbformat_minor": 1
}
